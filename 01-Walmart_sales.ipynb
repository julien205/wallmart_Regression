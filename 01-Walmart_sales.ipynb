{
 "cells": [
  {
   "cell_type": "markdown",
   "id": "a39397c5-cd1e-4747-911f-93f2d4088caf",
   "metadata": {},
   "source": [
    "<img src=\"https://www.bestdesigns.co/uploads/inspiration_images/4350/990__1511457498_404_walmart.png\" alt=\"WALMART LOGO\" />\n",
    "\n",
    "# Walmart : predict weekly sales\n",
    "\n",
    "## Company's Description 📇\n",
    "\n",
    "Walmart Inc. is an American multinational retail corporation that operates a chain of hypermarkets, discount department stores, and grocery stores from the United States, headquartered in Bentonville, Arkansas. The company was founded by Sam Walton in 1962.\n",
    "\n",
    "## Project 🚧\n",
    "\n",
    "Walmart's marketing service has asked you to build a machine learning model able to estimate the weekly sales in their stores, with the best precision possible on the predictions made. Such a model would help them understand better how the sales are influenced by economic indicators, and might be used to plan future marketing campaigns.\n",
    "\n",
    "## Goals 🎯\n",
    "\n",
    "The project can be divided into three steps:\n",
    "\n",
    "- Part 1 : make an EDA and all the necessary preprocessings to prepare data for machine learning\n",
    "- Part 2 : train a **linear regression model** (baseline)\n",
    "- Part 3 : avoid overfitting by training a **regularized regression model**\n",
    "\n",
    "## Scope of this project 🖼️\n",
    "\n",
    "For this project, you'll work with a dataset that contains information about weekly sales achieved by different Walmart stores, and other variables such as the unemployment rate or the fuel price, that might be useful for predicting the amount of sales. The dataset has been taken from a Kaggle competition, but we made some changes compared to the original data. Please make sure that you're using **our** custom dataset (available on JULIE). 🤓"
   ]
  },
  {
   "cell_type": "markdown",
   "id": "8a35bc4e-40ca-4ce3-91c1-51b7fa77aedc",
   "metadata": {},
   "source": [
    "## Deliverable 📬\n",
    "\n",
    "To complete this project, your team should: \n",
    "\n",
    "- Create some visualizations\n",
    "- Train at least one **linear regression model** on the dataset, that predicts the amount of weekly sales as a function of the other variables\n",
    "- Assess the performances of the model by using a metric that is relevant for regression problems\n",
    "- Interpret the coefficients of the model to identify what features are important for the prediction\n",
    "- Train at least one model with **regularization (Lasso or Ridge)** to reduce overfitting"
   ]
  },
  {
   "cell_type": "code",
   "execution_count": 1,
   "id": "d6a732b8-1bc4-4605-b1a1-4f64dfb85de4",
   "metadata": {},
   "outputs": [],
   "source": [
    "!pip install plotly==4.9.0 -q"
   ]
  },
  {
   "cell_type": "code",
   "execution_count": 2,
   "id": "f4da9a80-ce69-411e-967b-c0dec5a039ea",
   "metadata": {},
   "outputs": [],
   "source": [
    "import pandas as pd\n",
    "import numpy as np\n",
    "\n",
    "import datetime\n",
    "from datetime import date\n",
    "\n",
    "from sklearn.model_selection import train_test_split\n",
    "from sklearn.impute import SimpleImputer\n",
    "from sklearn.preprocessing import  OneHotEncoder, StandardScaler\n",
    "from sklearn.compose import ColumnTransformer\n",
    "from sklearn.linear_model import LinearRegression, Lasso, Ridge\n",
    "from sklearn.metrics import r2_score, mean_squared_error, mean_absolute_error, make_scorer\n",
    "from sklearn.model_selection import cross_val_score, GridSearchCV\n",
    "\n",
    "import seaborn as sns\n",
    "import matplotlib.pyplot as plt\n",
    "import plotly.express as px\n",
    "import plotly.graph_objects as go\n",
    "import plotly.io as pio\n",
    "from plotly.subplots import make_subplots\n",
    "# setting Jedha color palette as default\n",
    "pio.templates[\"jedha\"] = go.layout.Template(\n",
    "    layout_colorway=[\"#4B9AC7\", \"#4BE8E0\", \"#9DD4F3\", \"#97FBF6\", \"#2A7FAF\", \"#23B1AB\", \"#0E3449\", \"#015955\"]\n",
    "    )\n",
    "pio.templates.default = \"jedha\"\n",
    "pio.renderers.default = \"iframe\" "
   ]
  },
  {
   "cell_type": "code",
   "execution_count": 3,
   "id": "ccc6b59c-4f83-4f7c-b20e-fa38b836c890",
   "metadata": {},
   "outputs": [
    {
     "name": "stdout",
     "output_type": "stream",
     "text": [
      "Loading dataset...\n",
      "...Done.\n",
      "\n"
     ]
    }
   ],
   "source": [
    "# Import dataset\n",
    "print(\"Loading dataset...\")\n",
    "dataset = pd.read_csv(\"Walmart_Store_sales.csv\")\n",
    "print(\"...Done.\")\n",
    "print()"
   ]
  },
  {
   "cell_type": "markdown",
   "id": "e14d4b48-4a6a-4785-b49c-816f411c54f4",
   "metadata": {},
   "source": [
    "# Part 1 : EDA and data preprocessing"
   ]
  },
  {
   "cell_type": "code",
   "execution_count": 4,
   "id": "08d4bd86-ed3a-487d-b240-934c0118f242",
   "metadata": {},
   "outputs": [
    {
     "name": "stdout",
     "output_type": "stream",
     "text": [
      "Number of rows : 150\n",
      "\n",
      "Display of dataset: \n"
     ]
    },
    {
     "data": {
      "text/html": [
       "<div>\n",
       "<style scoped>\n",
       "    .dataframe tbody tr th:only-of-type {\n",
       "        vertical-align: middle;\n",
       "    }\n",
       "\n",
       "    .dataframe tbody tr th {\n",
       "        vertical-align: top;\n",
       "    }\n",
       "\n",
       "    .dataframe thead th {\n",
       "        text-align: right;\n",
       "    }\n",
       "</style>\n",
       "<table border=\"1\" class=\"dataframe\">\n",
       "  <thead>\n",
       "    <tr style=\"text-align: right;\">\n",
       "      <th></th>\n",
       "      <th>Store</th>\n",
       "      <th>Date</th>\n",
       "      <th>Weekly_Sales</th>\n",
       "      <th>Holiday_Flag</th>\n",
       "      <th>Temperature</th>\n",
       "      <th>Fuel_Price</th>\n",
       "      <th>CPI</th>\n",
       "      <th>Unemployment</th>\n",
       "    </tr>\n",
       "  </thead>\n",
       "  <tbody>\n",
       "    <tr>\n",
       "      <th>0</th>\n",
       "      <td>6.0</td>\n",
       "      <td>18-02-2011</td>\n",
       "      <td>1572117.54</td>\n",
       "      <td>NaN</td>\n",
       "      <td>59.61</td>\n",
       "      <td>3.045</td>\n",
       "      <td>214.777523</td>\n",
       "      <td>6.858</td>\n",
       "    </tr>\n",
       "    <tr>\n",
       "      <th>1</th>\n",
       "      <td>13.0</td>\n",
       "      <td>25-03-2011</td>\n",
       "      <td>1807545.43</td>\n",
       "      <td>0.0</td>\n",
       "      <td>42.38</td>\n",
       "      <td>3.435</td>\n",
       "      <td>128.616064</td>\n",
       "      <td>7.470</td>\n",
       "    </tr>\n",
       "    <tr>\n",
       "      <th>2</th>\n",
       "      <td>17.0</td>\n",
       "      <td>27-07-2012</td>\n",
       "      <td>NaN</td>\n",
       "      <td>0.0</td>\n",
       "      <td>NaN</td>\n",
       "      <td>NaN</td>\n",
       "      <td>130.719581</td>\n",
       "      <td>5.936</td>\n",
       "    </tr>\n",
       "    <tr>\n",
       "      <th>3</th>\n",
       "      <td>11.0</td>\n",
       "      <td>NaN</td>\n",
       "      <td>1244390.03</td>\n",
       "      <td>0.0</td>\n",
       "      <td>84.57</td>\n",
       "      <td>NaN</td>\n",
       "      <td>214.556497</td>\n",
       "      <td>7.346</td>\n",
       "    </tr>\n",
       "    <tr>\n",
       "      <th>4</th>\n",
       "      <td>6.0</td>\n",
       "      <td>28-05-2010</td>\n",
       "      <td>1644470.66</td>\n",
       "      <td>0.0</td>\n",
       "      <td>78.89</td>\n",
       "      <td>2.759</td>\n",
       "      <td>212.412888</td>\n",
       "      <td>7.092</td>\n",
       "    </tr>\n",
       "  </tbody>\n",
       "</table>\n",
       "</div>"
      ],
      "text/plain": [
       "   Store        Date  Weekly_Sales  Holiday_Flag  Temperature  Fuel_Price  \\\n",
       "0    6.0  18-02-2011    1572117.54           NaN        59.61       3.045   \n",
       "1   13.0  25-03-2011    1807545.43           0.0        42.38       3.435   \n",
       "2   17.0  27-07-2012           NaN           0.0          NaN         NaN   \n",
       "3   11.0         NaN    1244390.03           0.0        84.57         NaN   \n",
       "4    6.0  28-05-2010    1644470.66           0.0        78.89       2.759   \n",
       "\n",
       "          CPI  Unemployment  \n",
       "0  214.777523         6.858  \n",
       "1  128.616064         7.470  \n",
       "2  130.719581         5.936  \n",
       "3  214.556497         7.346  \n",
       "4  212.412888         7.092  "
      ]
     },
     "metadata": {},
     "output_type": "display_data"
    },
    {
     "name": "stdout",
     "output_type": "stream",
     "text": [
      "\n",
      "Basics statistics: \n"
     ]
    },
    {
     "data": {
      "text/html": [
       "<div>\n",
       "<style scoped>\n",
       "    .dataframe tbody tr th:only-of-type {\n",
       "        vertical-align: middle;\n",
       "    }\n",
       "\n",
       "    .dataframe tbody tr th {\n",
       "        vertical-align: top;\n",
       "    }\n",
       "\n",
       "    .dataframe thead th {\n",
       "        text-align: right;\n",
       "    }\n",
       "</style>\n",
       "<table border=\"1\" class=\"dataframe\">\n",
       "  <thead>\n",
       "    <tr style=\"text-align: right;\">\n",
       "      <th></th>\n",
       "      <th>Store</th>\n",
       "      <th>Date</th>\n",
       "      <th>Weekly_Sales</th>\n",
       "      <th>Holiday_Flag</th>\n",
       "      <th>Temperature</th>\n",
       "      <th>Fuel_Price</th>\n",
       "      <th>CPI</th>\n",
       "      <th>Unemployment</th>\n",
       "    </tr>\n",
       "  </thead>\n",
       "  <tbody>\n",
       "    <tr>\n",
       "      <th>count</th>\n",
       "      <td>150.000000</td>\n",
       "      <td>132</td>\n",
       "      <td>1.360000e+02</td>\n",
       "      <td>138.000000</td>\n",
       "      <td>132.000000</td>\n",
       "      <td>136.000000</td>\n",
       "      <td>138.000000</td>\n",
       "      <td>135.000000</td>\n",
       "    </tr>\n",
       "    <tr>\n",
       "      <th>unique</th>\n",
       "      <td>NaN</td>\n",
       "      <td>85</td>\n",
       "      <td>NaN</td>\n",
       "      <td>NaN</td>\n",
       "      <td>NaN</td>\n",
       "      <td>NaN</td>\n",
       "      <td>NaN</td>\n",
       "      <td>NaN</td>\n",
       "    </tr>\n",
       "    <tr>\n",
       "      <th>top</th>\n",
       "      <td>NaN</td>\n",
       "      <td>07-01-2011</td>\n",
       "      <td>NaN</td>\n",
       "      <td>NaN</td>\n",
       "      <td>NaN</td>\n",
       "      <td>NaN</td>\n",
       "      <td>NaN</td>\n",
       "      <td>NaN</td>\n",
       "    </tr>\n",
       "    <tr>\n",
       "      <th>freq</th>\n",
       "      <td>NaN</td>\n",
       "      <td>4</td>\n",
       "      <td>NaN</td>\n",
       "      <td>NaN</td>\n",
       "      <td>NaN</td>\n",
       "      <td>NaN</td>\n",
       "      <td>NaN</td>\n",
       "      <td>NaN</td>\n",
       "    </tr>\n",
       "    <tr>\n",
       "      <th>mean</th>\n",
       "      <td>9.866667</td>\n",
       "      <td>NaN</td>\n",
       "      <td>1.249536e+06</td>\n",
       "      <td>0.079710</td>\n",
       "      <td>61.398106</td>\n",
       "      <td>3.320853</td>\n",
       "      <td>179.898509</td>\n",
       "      <td>7.598430</td>\n",
       "    </tr>\n",
       "    <tr>\n",
       "      <th>std</th>\n",
       "      <td>6.231191</td>\n",
       "      <td>NaN</td>\n",
       "      <td>6.474630e+05</td>\n",
       "      <td>0.271831</td>\n",
       "      <td>18.378901</td>\n",
       "      <td>0.478149</td>\n",
       "      <td>40.274956</td>\n",
       "      <td>1.577173</td>\n",
       "    </tr>\n",
       "    <tr>\n",
       "      <th>min</th>\n",
       "      <td>1.000000</td>\n",
       "      <td>NaN</td>\n",
       "      <td>2.689290e+05</td>\n",
       "      <td>0.000000</td>\n",
       "      <td>18.790000</td>\n",
       "      <td>2.514000</td>\n",
       "      <td>126.111903</td>\n",
       "      <td>5.143000</td>\n",
       "    </tr>\n",
       "    <tr>\n",
       "      <th>25%</th>\n",
       "      <td>4.000000</td>\n",
       "      <td>NaN</td>\n",
       "      <td>6.050757e+05</td>\n",
       "      <td>0.000000</td>\n",
       "      <td>45.587500</td>\n",
       "      <td>2.852250</td>\n",
       "      <td>131.970831</td>\n",
       "      <td>6.597500</td>\n",
       "    </tr>\n",
       "    <tr>\n",
       "      <th>50%</th>\n",
       "      <td>9.000000</td>\n",
       "      <td>NaN</td>\n",
       "      <td>1.261424e+06</td>\n",
       "      <td>0.000000</td>\n",
       "      <td>62.985000</td>\n",
       "      <td>3.451000</td>\n",
       "      <td>197.908893</td>\n",
       "      <td>7.470000</td>\n",
       "    </tr>\n",
       "    <tr>\n",
       "      <th>75%</th>\n",
       "      <td>15.750000</td>\n",
       "      <td>NaN</td>\n",
       "      <td>1.806386e+06</td>\n",
       "      <td>0.000000</td>\n",
       "      <td>76.345000</td>\n",
       "      <td>3.706250</td>\n",
       "      <td>214.934616</td>\n",
       "      <td>8.150000</td>\n",
       "    </tr>\n",
       "    <tr>\n",
       "      <th>max</th>\n",
       "      <td>20.000000</td>\n",
       "      <td>NaN</td>\n",
       "      <td>2.771397e+06</td>\n",
       "      <td>1.000000</td>\n",
       "      <td>91.650000</td>\n",
       "      <td>4.193000</td>\n",
       "      <td>226.968844</td>\n",
       "      <td>14.313000</td>\n",
       "    </tr>\n",
       "  </tbody>\n",
       "</table>\n",
       "</div>"
      ],
      "text/plain": [
       "             Store        Date  Weekly_Sales  Holiday_Flag  Temperature  \\\n",
       "count   150.000000         132  1.360000e+02    138.000000   132.000000   \n",
       "unique         NaN          85           NaN           NaN          NaN   \n",
       "top            NaN  07-01-2011           NaN           NaN          NaN   \n",
       "freq           NaN           4           NaN           NaN          NaN   \n",
       "mean      9.866667         NaN  1.249536e+06      0.079710    61.398106   \n",
       "std       6.231191         NaN  6.474630e+05      0.271831    18.378901   \n",
       "min       1.000000         NaN  2.689290e+05      0.000000    18.790000   \n",
       "25%       4.000000         NaN  6.050757e+05      0.000000    45.587500   \n",
       "50%       9.000000         NaN  1.261424e+06      0.000000    62.985000   \n",
       "75%      15.750000         NaN  1.806386e+06      0.000000    76.345000   \n",
       "max      20.000000         NaN  2.771397e+06      1.000000    91.650000   \n",
       "\n",
       "        Fuel_Price         CPI  Unemployment  \n",
       "count   136.000000  138.000000    135.000000  \n",
       "unique         NaN         NaN           NaN  \n",
       "top            NaN         NaN           NaN  \n",
       "freq           NaN         NaN           NaN  \n",
       "mean      3.320853  179.898509      7.598430  \n",
       "std       0.478149   40.274956      1.577173  \n",
       "min       2.514000  126.111903      5.143000  \n",
       "25%       2.852250  131.970831      6.597500  \n",
       "50%       3.451000  197.908893      7.470000  \n",
       "75%       3.706250  214.934616      8.150000  \n",
       "max       4.193000  226.968844     14.313000  "
      ]
     },
     "metadata": {},
     "output_type": "display_data"
    },
    {
     "name": "stdout",
     "output_type": "stream",
     "text": [
      "\n",
      "Percentage of missing values: \n"
     ]
    },
    {
     "data": {
      "text/plain": [
       "Store            0.000000\n",
       "Date            12.000000\n",
       "Weekly_Sales     9.333333\n",
       "Holiday_Flag     8.000000\n",
       "Temperature     12.000000\n",
       "Fuel_Price       9.333333\n",
       "CPI              8.000000\n",
       "Unemployment    10.000000\n",
       "dtype: float64"
      ]
     },
     "metadata": {},
     "output_type": "display_data"
    }
   ],
   "source": [
    "# Basic stats\n",
    "print(\"Number of rows : {}\".format(dataset.shape[0]))\n",
    "print()\n",
    "\n",
    "print(\"Display of dataset: \")\n",
    "display(dataset.head())\n",
    "print()\n",
    "\n",
    "print(\"Basics statistics: \")\n",
    "data_desc = dataset.describe(include='all')\n",
    "display(data_desc)\n",
    "print()\n",
    "\n",
    "print(\"Percentage of missing values: \")\n",
    "display(100*dataset.isnull().sum()/dataset.shape[0])"
   ]
  },
  {
   "cell_type": "markdown",
   "id": "9ec19d34-5333-4ff8-b236-1b8a4f13c4af",
   "metadata": {},
   "source": [
    " **Drop lines where target values are missing :**\n",
    " - Here, the target variable (Y) corresponds to the column *Weekly_Sales*. One can see above that there are some missing values in this column.\n",
    " - We never use imputation techniques on the target : it might create some bias in the predictions !\n",
    " - Then, we will just drop the lines in the dataset for which the value in *Weekly_Sales* is missing."
   ]
  },
  {
   "cell_type": "code",
   "execution_count": 5,
   "id": "3b12c5ab-1113-4dd6-964b-f5b9106db480",
   "metadata": {},
   "outputs": [
    {
     "name": "stdout",
     "output_type": "stream",
     "text": [
      "Basics statistics: \n"
     ]
    },
    {
     "data": {
      "text/html": [
       "<div>\n",
       "<style scoped>\n",
       "    .dataframe tbody tr th:only-of-type {\n",
       "        vertical-align: middle;\n",
       "    }\n",
       "\n",
       "    .dataframe tbody tr th {\n",
       "        vertical-align: top;\n",
       "    }\n",
       "\n",
       "    .dataframe thead th {\n",
       "        text-align: right;\n",
       "    }\n",
       "</style>\n",
       "<table border=\"1\" class=\"dataframe\">\n",
       "  <thead>\n",
       "    <tr style=\"text-align: right;\">\n",
       "      <th></th>\n",
       "      <th>Store</th>\n",
       "      <th>Date</th>\n",
       "      <th>Weekly_Sales</th>\n",
       "      <th>Holiday_Flag</th>\n",
       "      <th>Temperature</th>\n",
       "      <th>Fuel_Price</th>\n",
       "      <th>CPI</th>\n",
       "      <th>Unemployment</th>\n",
       "    </tr>\n",
       "  </thead>\n",
       "  <tbody>\n",
       "    <tr>\n",
       "      <th>count</th>\n",
       "      <td>136.000000</td>\n",
       "      <td>118</td>\n",
       "      <td>1.360000e+02</td>\n",
       "      <td>125.000000</td>\n",
       "      <td>121.000000</td>\n",
       "      <td>124.000000</td>\n",
       "      <td>125.000000</td>\n",
       "      <td>122.000000</td>\n",
       "    </tr>\n",
       "    <tr>\n",
       "      <th>unique</th>\n",
       "      <td>NaN</td>\n",
       "      <td>79</td>\n",
       "      <td>NaN</td>\n",
       "      <td>NaN</td>\n",
       "      <td>NaN</td>\n",
       "      <td>NaN</td>\n",
       "      <td>NaN</td>\n",
       "      <td>NaN</td>\n",
       "    </tr>\n",
       "    <tr>\n",
       "      <th>top</th>\n",
       "      <td>NaN</td>\n",
       "      <td>30-07-2010</td>\n",
       "      <td>NaN</td>\n",
       "      <td>NaN</td>\n",
       "      <td>NaN</td>\n",
       "      <td>NaN</td>\n",
       "      <td>NaN</td>\n",
       "      <td>NaN</td>\n",
       "    </tr>\n",
       "    <tr>\n",
       "      <th>freq</th>\n",
       "      <td>NaN</td>\n",
       "      <td>3</td>\n",
       "      <td>NaN</td>\n",
       "      <td>NaN</td>\n",
       "      <td>NaN</td>\n",
       "      <td>NaN</td>\n",
       "      <td>NaN</td>\n",
       "      <td>NaN</td>\n",
       "    </tr>\n",
       "    <tr>\n",
       "      <th>mean</th>\n",
       "      <td>10.014706</td>\n",
       "      <td>NaN</td>\n",
       "      <td>1.249536e+06</td>\n",
       "      <td>0.072000</td>\n",
       "      <td>60.853967</td>\n",
       "      <td>3.316992</td>\n",
       "      <td>178.091144</td>\n",
       "      <td>7.665582</td>\n",
       "    </tr>\n",
       "    <tr>\n",
       "      <th>std</th>\n",
       "      <td>6.124614</td>\n",
       "      <td>NaN</td>\n",
       "      <td>6.474630e+05</td>\n",
       "      <td>0.259528</td>\n",
       "      <td>18.514432</td>\n",
       "      <td>0.479540</td>\n",
       "      <td>40.243105</td>\n",
       "      <td>1.619428</td>\n",
       "    </tr>\n",
       "    <tr>\n",
       "      <th>min</th>\n",
       "      <td>1.000000</td>\n",
       "      <td>NaN</td>\n",
       "      <td>2.689290e+05</td>\n",
       "      <td>0.000000</td>\n",
       "      <td>18.790000</td>\n",
       "      <td>2.514000</td>\n",
       "      <td>126.111903</td>\n",
       "      <td>5.143000</td>\n",
       "    </tr>\n",
       "    <tr>\n",
       "      <th>25%</th>\n",
       "      <td>4.000000</td>\n",
       "      <td>NaN</td>\n",
       "      <td>6.050757e+05</td>\n",
       "      <td>0.000000</td>\n",
       "      <td>45.220000</td>\n",
       "      <td>2.838500</td>\n",
       "      <td>131.637000</td>\n",
       "      <td>6.690000</td>\n",
       "    </tr>\n",
       "    <tr>\n",
       "      <th>50%</th>\n",
       "      <td>10.000000</td>\n",
       "      <td>NaN</td>\n",
       "      <td>1.261424e+06</td>\n",
       "      <td>0.000000</td>\n",
       "      <td>62.250000</td>\n",
       "      <td>3.451000</td>\n",
       "      <td>196.919506</td>\n",
       "      <td>7.477000</td>\n",
       "    </tr>\n",
       "    <tr>\n",
       "      <th>75%</th>\n",
       "      <td>15.250000</td>\n",
       "      <td>NaN</td>\n",
       "      <td>1.806386e+06</td>\n",
       "      <td>0.000000</td>\n",
       "      <td>75.950000</td>\n",
       "      <td>3.724000</td>\n",
       "      <td>214.878556</td>\n",
       "      <td>8.150000</td>\n",
       "    </tr>\n",
       "    <tr>\n",
       "      <th>max</th>\n",
       "      <td>20.000000</td>\n",
       "      <td>NaN</td>\n",
       "      <td>2.771397e+06</td>\n",
       "      <td>1.000000</td>\n",
       "      <td>91.650000</td>\n",
       "      <td>4.193000</td>\n",
       "      <td>226.968844</td>\n",
       "      <td>14.313000</td>\n",
       "    </tr>\n",
       "  </tbody>\n",
       "</table>\n",
       "</div>"
      ],
      "text/plain": [
       "             Store        Date  Weekly_Sales  Holiday_Flag  Temperature  \\\n",
       "count   136.000000         118  1.360000e+02    125.000000   121.000000   \n",
       "unique         NaN          79           NaN           NaN          NaN   \n",
       "top            NaN  30-07-2010           NaN           NaN          NaN   \n",
       "freq           NaN           3           NaN           NaN          NaN   \n",
       "mean     10.014706         NaN  1.249536e+06      0.072000    60.853967   \n",
       "std       6.124614         NaN  6.474630e+05      0.259528    18.514432   \n",
       "min       1.000000         NaN  2.689290e+05      0.000000    18.790000   \n",
       "25%       4.000000         NaN  6.050757e+05      0.000000    45.220000   \n",
       "50%      10.000000         NaN  1.261424e+06      0.000000    62.250000   \n",
       "75%      15.250000         NaN  1.806386e+06      0.000000    75.950000   \n",
       "max      20.000000         NaN  2.771397e+06      1.000000    91.650000   \n",
       "\n",
       "        Fuel_Price         CPI  Unemployment  \n",
       "count   124.000000  125.000000    122.000000  \n",
       "unique         NaN         NaN           NaN  \n",
       "top            NaN         NaN           NaN  \n",
       "freq           NaN         NaN           NaN  \n",
       "mean      3.316992  178.091144      7.665582  \n",
       "std       0.479540   40.243105      1.619428  \n",
       "min       2.514000  126.111903      5.143000  \n",
       "25%       2.838500  131.637000      6.690000  \n",
       "50%       3.451000  196.919506      7.477000  \n",
       "75%       3.724000  214.878556      8.150000  \n",
       "max       4.193000  226.968844     14.313000  "
      ]
     },
     "metadata": {},
     "output_type": "display_data"
    },
    {
     "name": "stdout",
     "output_type": "stream",
     "text": [
      "\n"
     ]
    }
   ],
   "source": [
    "# drop rows with Weekly_Sales (The target) missings\n",
    "dataset = dataset[dataset['Weekly_Sales'].notna()]\n",
    "print(\"Basics statistics: \")\n",
    "data_desc = dataset.describe(include='all')\n",
    "display(data_desc)\n",
    "print()"
   ]
  },
  {
   "cell_type": "markdown",
   "id": "3b4b50fc-0b31-4d53-bb8e-efdab97ce299",
   "metadata": {},
   "source": [
    "**Create usable features from the *Date* column :**\n",
    "The *Date* column cannot be included as it is in the model. Either you can drop this column, or you will create new columns that contain the following numeric features : \n",
    "- *year*\n",
    "- *month*\n",
    "- *day*\n",
    "- *day of week*"
   ]
  },
  {
   "cell_type": "code",
   "execution_count": 6,
   "id": "53e8d1dd-563b-47ba-b8de-253ccd0ed0a3",
   "metadata": {},
   "outputs": [
    {
     "data": {
      "text/html": [
       "<div>\n",
       "<style scoped>\n",
       "    .dataframe tbody tr th:only-of-type {\n",
       "        vertical-align: middle;\n",
       "    }\n",
       "\n",
       "    .dataframe tbody tr th {\n",
       "        vertical-align: top;\n",
       "    }\n",
       "\n",
       "    .dataframe thead th {\n",
       "        text-align: right;\n",
       "    }\n",
       "</style>\n",
       "<table border=\"1\" class=\"dataframe\">\n",
       "  <thead>\n",
       "    <tr style=\"text-align: right;\">\n",
       "      <th></th>\n",
       "      <th>Store</th>\n",
       "      <th>Date</th>\n",
       "      <th>Weekly_Sales</th>\n",
       "      <th>Holiday_Flag</th>\n",
       "      <th>Temperature</th>\n",
       "      <th>Fuel_Price</th>\n",
       "      <th>CPI</th>\n",
       "      <th>Unemployment</th>\n",
       "      <th>Year</th>\n",
       "      <th>Month</th>\n",
       "      <th>Day</th>\n",
       "      <th>Day_of_week</th>\n",
       "      <th>Weekday_number</th>\n",
       "    </tr>\n",
       "  </thead>\n",
       "  <tbody>\n",
       "    <tr>\n",
       "      <th>0</th>\n",
       "      <td>6.0</td>\n",
       "      <td>2011-02-18</td>\n",
       "      <td>1572117.54</td>\n",
       "      <td>NaN</td>\n",
       "      <td>59.61</td>\n",
       "      <td>3.045</td>\n",
       "      <td>214.777523</td>\n",
       "      <td>6.858</td>\n",
       "      <td>2011.0</td>\n",
       "      <td>2.0</td>\n",
       "      <td>18.0</td>\n",
       "      <td>Friday</td>\n",
       "      <td>4.0</td>\n",
       "    </tr>\n",
       "    <tr>\n",
       "      <th>1</th>\n",
       "      <td>13.0</td>\n",
       "      <td>2011-03-25</td>\n",
       "      <td>1807545.43</td>\n",
       "      <td>0.0</td>\n",
       "      <td>42.38</td>\n",
       "      <td>3.435</td>\n",
       "      <td>128.616064</td>\n",
       "      <td>7.470</td>\n",
       "      <td>2011.0</td>\n",
       "      <td>3.0</td>\n",
       "      <td>25.0</td>\n",
       "      <td>Friday</td>\n",
       "      <td>4.0</td>\n",
       "    </tr>\n",
       "    <tr>\n",
       "      <th>3</th>\n",
       "      <td>11.0</td>\n",
       "      <td>NaT</td>\n",
       "      <td>1244390.03</td>\n",
       "      <td>0.0</td>\n",
       "      <td>84.57</td>\n",
       "      <td>NaN</td>\n",
       "      <td>214.556497</td>\n",
       "      <td>7.346</td>\n",
       "      <td>NaN</td>\n",
       "      <td>NaN</td>\n",
       "      <td>NaN</td>\n",
       "      <td>NaN</td>\n",
       "      <td>NaN</td>\n",
       "    </tr>\n",
       "    <tr>\n",
       "      <th>4</th>\n",
       "      <td>6.0</td>\n",
       "      <td>2010-05-28</td>\n",
       "      <td>1644470.66</td>\n",
       "      <td>0.0</td>\n",
       "      <td>78.89</td>\n",
       "      <td>2.759</td>\n",
       "      <td>212.412888</td>\n",
       "      <td>7.092</td>\n",
       "      <td>2010.0</td>\n",
       "      <td>5.0</td>\n",
       "      <td>28.0</td>\n",
       "      <td>Friday</td>\n",
       "      <td>4.0</td>\n",
       "    </tr>\n",
       "    <tr>\n",
       "      <th>5</th>\n",
       "      <td>4.0</td>\n",
       "      <td>2010-05-28</td>\n",
       "      <td>1857533.70</td>\n",
       "      <td>0.0</td>\n",
       "      <td>NaN</td>\n",
       "      <td>2.756</td>\n",
       "      <td>126.160226</td>\n",
       "      <td>7.896</td>\n",
       "      <td>2010.0</td>\n",
       "      <td>5.0</td>\n",
       "      <td>28.0</td>\n",
       "      <td>Friday</td>\n",
       "      <td>4.0</td>\n",
       "    </tr>\n",
       "  </tbody>\n",
       "</table>\n",
       "</div>"
      ],
      "text/plain": [
       "   Store       Date  Weekly_Sales  Holiday_Flag  Temperature  Fuel_Price  \\\n",
       "0    6.0 2011-02-18    1572117.54           NaN        59.61       3.045   \n",
       "1   13.0 2011-03-25    1807545.43           0.0        42.38       3.435   \n",
       "3   11.0        NaT    1244390.03           0.0        84.57         NaN   \n",
       "4    6.0 2010-05-28    1644470.66           0.0        78.89       2.759   \n",
       "5    4.0 2010-05-28    1857533.70           0.0          NaN       2.756   \n",
       "\n",
       "          CPI  Unemployment    Year  Month   Day Day_of_week  Weekday_number  \n",
       "0  214.777523         6.858  2011.0    2.0  18.0      Friday             4.0  \n",
       "1  128.616064         7.470  2011.0    3.0  25.0      Friday             4.0  \n",
       "3  214.556497         7.346     NaN    NaN   NaN         NaN             NaN  \n",
       "4  212.412888         7.092  2010.0    5.0  28.0      Friday             4.0  \n",
       "5  126.160226         7.896  2010.0    5.0  28.0      Friday             4.0  "
      ]
     },
     "execution_count": 6,
     "metadata": {},
     "output_type": "execute_result"
    }
   ],
   "source": [
    "dataset['Date'] = pd.to_datetime(dataset['Date'])\n",
    "dataset['Date'] = pd.to_datetime(dataset['Date'])\n",
    "dataset['Year'] = pd.DatetimeIndex(dataset['Date']).year\n",
    "dataset['Month'] = pd.DatetimeIndex(dataset['Date']).month\n",
    "dataset['Day'] = pd.DatetimeIndex(dataset['Date']).day\n",
    "dataset['Day_of_week'] = dataset['Date'].dt.day_name()\n",
    "dataset['Weekday_number'] = dataset['Date'].dt.weekday\n",
    "dataset.head()"
   ]
  },
  {
   "cell_type": "markdown",
   "id": "59fe27ca-15f3-426f-a50c-c49c3b8a6617",
   "metadata": {},
   "source": [
    "## Visuals"
   ]
  },
  {
   "cell_type": "code",
   "execution_count": 7,
   "id": "fd01b5d7-4f5a-4c82-8e80-3a738cf8a6d2",
   "metadata": {},
   "outputs": [
    {
     "data": {
      "text/html": [
       "<iframe\n",
       "    scrolling=\"no\"\n",
       "    width=\"100%\"\n",
       "    height=\"520\"\n",
       "    src=\"iframe_figures/figure_7.html\"\n",
       "    frameborder=\"0\"\n",
       "    allowfullscreen\n",
       "></iframe>\n"
      ]
     },
     "metadata": {},
     "output_type": "display_data"
    }
   ],
   "source": [
    "# Univariate analysis\n",
    "from plotly.subplots import make_subplots\n",
    "\n",
    "# Barplot of each qualitative variable\n",
    "cat_features = ['Store', 'Holiday_Flag']\n",
    "fig2 = make_subplots(rows = len(cat_features), cols = 1, subplot_titles = cat_features)\n",
    "for i in range(len(cat_features)):\n",
    "    \n",
    "    x_coords = dataset[cat_features[i]].value_counts().index.tolist()\n",
    "    y_coords = dataset[cat_features[i]].value_counts().tolist()\n",
    "    \n",
    "    fig2.add_trace(\n",
    "        go.Bar(\n",
    "            x = x_coords,\n",
    "            y = y_coords),\n",
    "        row = i + 1,\n",
    "        col = 1)\n",
    "fig2.update_layout(\n",
    "        title = go.layout.Title(text = \"Barplot of qualitative variables\", x = 0.5), showlegend = False, \n",
    "            autosize=False, height=500)\n",
    "fig2.show()"
   ]
  },
  {
   "cell_type": "code",
   "execution_count": 8,
   "id": "244c7dcc-8803-4889-afad-9b81e6e54339",
   "metadata": {},
   "outputs": [
    {
     "data": {
      "text/html": [
       "<iframe\n",
       "    scrolling=\"no\"\n",
       "    width=\"100%\"\n",
       "    height=\"545px\"\n",
       "    src=\"iframe_figures/figure_8.html\"\n",
       "    frameborder=\"0\"\n",
       "    allowfullscreen\n",
       "></iframe>\n"
      ]
     },
     "metadata": {},
     "output_type": "display_data"
    }
   ],
   "source": [
    "# Let's see how our target look like\n",
    "fig = px.histogram(dataset['Weekly_Sales'], nbins = 120, title = \"Distribution of target variable\")\n",
    "fig.show()"
   ]
  },
  {
   "cell_type": "markdown",
   "id": "2e376c6f-f5c5-4714-bec7-f6066abfaf32",
   "metadata": {},
   "source": [
    "We can see that the distribution of the sales is not regular, we will try understand this effect by anylising the impact of multiple factors on sales."
   ]
  },
  {
   "cell_type": "code",
   "execution_count": 9,
   "id": "174db2ff-8055-4a00-9501-77e54445ec7b",
   "metadata": {},
   "outputs": [
    {
     "data": {
      "text/html": [
       "<iframe\n",
       "    scrolling=\"no\"\n",
       "    width=\"100%\"\n",
       "    height=\"545px\"\n",
       "    src=\"iframe_figures/figure_9.html\"\n",
       "    frameborder=\"0\"\n",
       "    allowfullscreen\n",
       "></iframe>\n"
      ]
     },
     "metadata": {},
     "output_type": "display_data"
    }
   ],
   "source": [
    "px.scatter(dataset, x = 'Temperature', y = 'Weekly_Sales')"
   ]
  },
  {
   "cell_type": "markdown",
   "id": "18666ae9-0496-4179-866d-71d95f4df796",
   "metadata": {},
   "source": [
    "We cannot see linear impact of temperatures on sales"
   ]
  },
  {
   "cell_type": "code",
   "execution_count": 10,
   "id": "8f9f22df-4058-4cb7-8683-13d309dd7f64",
   "metadata": {},
   "outputs": [
    {
     "data": {
      "text/html": [
       "<iframe\n",
       "    scrolling=\"no\"\n",
       "    width=\"100%\"\n",
       "    height=\"545px\"\n",
       "    src=\"iframe_figures/figure_10.html\"\n",
       "    frameborder=\"0\"\n",
       "    allowfullscreen\n",
       "></iframe>\n"
      ]
     },
     "metadata": {},
     "output_type": "display_data"
    }
   ],
   "source": [
    "px.scatter(dataset, x = 'Fuel_Price', y = 'Weekly_Sales')"
   ]
  },
  {
   "cell_type": "markdown",
   "id": "595c105e-6d6a-436e-b2f0-e1e4bdca3891",
   "metadata": {},
   "source": [
    "There's also no linear impact of the fuel price on sales"
   ]
  },
  {
   "cell_type": "code",
   "execution_count": 11,
   "id": "474d84a0-a62a-4b97-8b27-3b20d96378a9",
   "metadata": {},
   "outputs": [
    {
     "data": {
      "text/html": [
       "<iframe\n",
       "    scrolling=\"no\"\n",
       "    width=\"100%\"\n",
       "    height=\"545px\"\n",
       "    src=\"iframe_figures/figure_11.html\"\n",
       "    frameborder=\"0\"\n",
       "    allowfullscreen\n",
       "></iframe>\n"
      ]
     },
     "metadata": {},
     "output_type": "display_data"
    }
   ],
   "source": [
    "px.scatter(dataset, x = 'CPI', y = 'Weekly_Sales')"
   ]
  },
  {
   "cell_type": "markdown",
   "id": "38eaaf4b-0bbc-44df-ac1e-d7ed700b63b6",
   "metadata": {},
   "source": [
    "Also no linear impact of the CPI on sales"
   ]
  },
  {
   "cell_type": "code",
   "execution_count": 12,
   "id": "2f1581f4-2134-4d89-a439-8e2c1ead7128",
   "metadata": {},
   "outputs": [
    {
     "data": {
      "text/html": [
       "<iframe\n",
       "    scrolling=\"no\"\n",
       "    width=\"100%\"\n",
       "    height=\"545px\"\n",
       "    src=\"iframe_figures/figure_12.html\"\n",
       "    frameborder=\"0\"\n",
       "    allowfullscreen\n",
       "></iframe>\n"
      ]
     },
     "metadata": {},
     "output_type": "display_data"
    }
   ],
   "source": [
    "px.scatter(dataset, x = 'Unemployment', y = 'Weekly_Sales')"
   ]
  },
  {
   "cell_type": "markdown",
   "id": "1b948421-3a05-481c-bb53-c8e8162d8150",
   "metadata": {},
   "source": [
    "no linear impact also of th unemployment on sales; we can observe 5 outliers (near the value 14)"
   ]
  },
  {
   "cell_type": "code",
   "execution_count": 13,
   "id": "46fcf2b7-e81d-4846-ab8c-a35298a212c4",
   "metadata": {},
   "outputs": [
    {
     "data": {
      "text/html": [
       "<iframe\n",
       "    scrolling=\"no\"\n",
       "    width=\"100%\"\n",
       "    height=\"545px\"\n",
       "    src=\"iframe_figures/figure_13.html\"\n",
       "    frameborder=\"0\"\n",
       "    allowfullscreen\n",
       "></iframe>\n"
      ]
     },
     "metadata": {},
     "output_type": "display_data"
    }
   ],
   "source": [
    "px.box(dataset, x=\"Store\",y=\"Weekly_Sales\")"
   ]
  },
  {
   "cell_type": "markdown",
   "id": "9aaaa9c5-fb82-496a-ac9a-975647fdfe9f",
   "metadata": {},
   "source": [
    "Here we can observe that the store has a direct impact on sales, the stores have specifics windows of sales."
   ]
  },
  {
   "cell_type": "code",
   "execution_count": 14,
   "id": "1bb4ff79-7e54-4c8d-b2e1-0c180197fb5d",
   "metadata": {},
   "outputs": [
    {
     "data": {
      "text/html": [
       "<iframe\n",
       "    scrolling=\"no\"\n",
       "    width=\"100%\"\n",
       "    height=\"545px\"\n",
       "    src=\"iframe_figures/figure_14.html\"\n",
       "    frameborder=\"0\"\n",
       "    allowfullscreen\n",
       "></iframe>\n"
      ]
     },
     "metadata": {},
     "output_type": "display_data"
    }
   ],
   "source": [
    "px.scatter(dataset, x = 'Holiday_Flag', y = 'Weekly_Sales')"
   ]
  },
  {
   "cell_type": "markdown",
   "id": "b9513fc4-ecd1-45c1-bf72-febc6eb1ab9b",
   "metadata": {},
   "source": [
    "The holiday flag as also no direct impact on sales and is very imbalanced"
   ]
  },
  {
   "cell_type": "code",
   "execution_count": 15,
   "id": "b1be192c-94f0-4977-9613-a5d7565eabd2",
   "metadata": {},
   "outputs": [
    {
     "data": {
      "text/html": [
       "<iframe\n",
       "    scrolling=\"no\"\n",
       "    width=\"100%\"\n",
       "    height=\"545px\"\n",
       "    src=\"iframe_figures/figure_15.html\"\n",
       "    frameborder=\"0\"\n",
       "    allowfullscreen\n",
       "></iframe>\n"
      ]
     },
     "metadata": {},
     "output_type": "display_data"
    }
   ],
   "source": [
    "px.scatter(dataset, x = 'Date', y = 'Weekly_Sales')"
   ]
  },
  {
   "cell_type": "markdown",
   "id": "e4e04e09-067d-4ad9-8a7a-b322e049a484",
   "metadata": {},
   "source": [
    "the date as also no linear impact on sales"
   ]
  },
  {
   "cell_type": "code",
   "execution_count": 16,
   "id": "12dc787b-29d4-4477-930e-d82014d36ca3",
   "metadata": {},
   "outputs": [
    {
     "data": {
      "text/html": [
       "<iframe\n",
       "    scrolling=\"no\"\n",
       "    width=\"100%\"\n",
       "    height=\"545px\"\n",
       "    src=\"iframe_figures/figure_16.html\"\n",
       "    frameborder=\"0\"\n",
       "    allowfullscreen\n",
       "></iframe>\n"
      ]
     },
     "metadata": {},
     "output_type": "display_data"
    }
   ],
   "source": [
    "px.box(dataset, x=\"Month\",y = 'Weekly_Sales')"
   ]
  },
  {
   "cell_type": "markdown",
   "id": "28feea94-e3e8-4594-86b6-019586e33258",
   "metadata": {},
   "source": [
    "We can see that there is some impact of the month on sales, particularly, april and september have lower sales than the other months, and october have more higher sales."
   ]
  },
  {
   "cell_type": "code",
   "execution_count": 17,
   "id": "69d07621-ff95-420d-ae7f-0fff96ceadb0",
   "metadata": {},
   "outputs": [
    {
     "data": {
      "text/html": [
       "<iframe\n",
       "    scrolling=\"no\"\n",
       "    width=\"100%\"\n",
       "    height=\"545px\"\n",
       "    src=\"iframe_figures/figure_17.html\"\n",
       "    frameborder=\"0\"\n",
       "    allowfullscreen\n",
       "></iframe>\n"
      ]
     },
     "metadata": {},
     "output_type": "display_data"
    }
   ],
   "source": [
    "px.scatter(dataset, x = 'Day', y = 'Weekly_Sales')"
   ]
  },
  {
   "cell_type": "markdown",
   "id": "f1adb334-8dce-427e-89e6-b16a40b92396",
   "metadata": {},
   "source": [
    "the day of the week has also no linear impact on sales"
   ]
  },
  {
   "cell_type": "code",
   "execution_count": 18,
   "id": "28568c62-9c88-4862-b452-24d92a90b79e",
   "metadata": {},
   "outputs": [
    {
     "data": {
      "text/html": [
       "<iframe\n",
       "    scrolling=\"no\"\n",
       "    width=\"100%\"\n",
       "    height=\"545px\"\n",
       "    src=\"iframe_figures/figure_18.html\"\n",
       "    frameborder=\"0\"\n",
       "    allowfullscreen\n",
       "></iframe>\n"
      ]
     },
     "metadata": {},
     "output_type": "display_data"
    }
   ],
   "source": [
    "px.scatter(dataset, x = 'Day_of_week', y = 'Weekly_Sales')"
   ]
  },
  {
   "cell_type": "markdown",
   "id": "b20d900a-5595-4286-8f43-43de832d46b0",
   "metadata": {},
   "source": [
    "the day of the week has some impact on sales, for exemple on mondays the sales are lower, but the number of observations is very low. Most of them are on friday."
   ]
  },
  {
   "cell_type": "markdown",
   "id": "f65fa49e-64f5-4f8a-9f00-bf83a1cbf324",
   "metadata": {},
   "source": [
    "**As we have seen, except for the store number, we cannot observe any linear correlation between each variable and the target**"
   ]
  },
  {
   "cell_type": "code",
   "execution_count": 19,
   "id": "c56f6080-e0a5-4268-8881-128ffd565d4f",
   "metadata": {},
   "outputs": [
    {
     "data": {
      "text/plain": [
       "<AxesSubplot:>"
      ]
     },
     "execution_count": 19,
     "metadata": {},
     "output_type": "execute_result"
    },
    {
     "data": {
      "image/png": "[encoded data removed]",
      "text/plain": [
       "<Figure size 720x504 with 2 Axes>"
      ]
     },
     "metadata": {
      "needs_background": "light"
     },
     "output_type": "display_data"
    }
   ],
   "source": [
    "# heat map to check for correlation between the features (for exemple year and fuel price is highly correlated)\n",
    "plt.figure(figsize= (10,7))\n",
    "sns.heatmap(dataset.corr(), annot= True)"
   ]
  },
  {
   "cell_type": "markdown",
   "id": "dfb9a1fb-5851-4f83-97c2-de6db2ab1ff2",
   "metadata": {},
   "source": [
    "**Droping lines containing invalid values or outliers :**\n",
    "In this project, will be considered as outliers all the numeric features that don't fall within the interquartile +- 1.5 interquartile range. This concerns the columns : *Temperature*, *Fuel_price*, *CPI* and *Unemployment*"
   ]
  },
  {
   "cell_type": "code",
   "execution_count": 20,
   "id": "a1978bd4-4ad9-45ca-8d00-fc5b5e4437e7",
   "metadata": {},
   "outputs": [
    {
     "name": "stderr",
     "output_type": "stream",
     "text": [
      "<ipython-input-20-dd1a1abc9aec>:13: FutureWarning:\n",
      "\n",
      "Treating datetime data as categorical rather than numeric in `.describe` is deprecated and will be removed in a future version of pandas. Specify `datetime_is_numeric=True` to silence this warning and adopt the future behavior now.\n",
      "\n"
     ]
    },
    {
     "data": {
      "text/html": [
       "<div>\n",
       "<style scoped>\n",
       "    .dataframe tbody tr th:only-of-type {\n",
       "        vertical-align: middle;\n",
       "    }\n",
       "\n",
       "    .dataframe tbody tr th {\n",
       "        vertical-align: top;\n",
       "    }\n",
       "\n",
       "    .dataframe thead th {\n",
       "        text-align: right;\n",
       "    }\n",
       "</style>\n",
       "<table border=\"1\" class=\"dataframe\">\n",
       "  <thead>\n",
       "    <tr style=\"text-align: right;\">\n",
       "      <th></th>\n",
       "      <th>Store</th>\n",
       "      <th>Date</th>\n",
       "      <th>Weekly_Sales</th>\n",
       "      <th>Holiday_Flag</th>\n",
       "      <th>Temperature</th>\n",
       "      <th>Fuel_Price</th>\n",
       "      <th>CPI</th>\n",
       "      <th>Unemployment</th>\n",
       "      <th>Year</th>\n",
       "      <th>Month</th>\n",
       "      <th>Day</th>\n",
       "      <th>Day_of_week</th>\n",
       "      <th>Weekday_number</th>\n",
       "    </tr>\n",
       "  </thead>\n",
       "  <tbody>\n",
       "    <tr>\n",
       "      <th>count</th>\n",
       "      <td>90.000000</td>\n",
       "      <td>80</td>\n",
       "      <td>9.000000e+01</td>\n",
       "      <td>80.000000</td>\n",
       "      <td>90.00000</td>\n",
       "      <td>90.000000</td>\n",
       "      <td>90.000000</td>\n",
       "      <td>90.000000</td>\n",
       "      <td>80.000000</td>\n",
       "      <td>80.000000</td>\n",
       "      <td>80.000000</td>\n",
       "      <td>80</td>\n",
       "      <td>80.000000</td>\n",
       "    </tr>\n",
       "    <tr>\n",
       "      <th>unique</th>\n",
       "      <td>NaN</td>\n",
       "      <td>62</td>\n",
       "      <td>NaN</td>\n",
       "      <td>NaN</td>\n",
       "      <td>NaN</td>\n",
       "      <td>NaN</td>\n",
       "      <td>NaN</td>\n",
       "      <td>NaN</td>\n",
       "      <td>NaN</td>\n",
       "      <td>NaN</td>\n",
       "      <td>NaN</td>\n",
       "      <td>6</td>\n",
       "      <td>NaN</td>\n",
       "    </tr>\n",
       "    <tr>\n",
       "      <th>top</th>\n",
       "      <td>NaN</td>\n",
       "      <td>2010-06-18 00:00:00</td>\n",
       "      <td>NaN</td>\n",
       "      <td>NaN</td>\n",
       "      <td>NaN</td>\n",
       "      <td>NaN</td>\n",
       "      <td>NaN</td>\n",
       "      <td>NaN</td>\n",
       "      <td>NaN</td>\n",
       "      <td>NaN</td>\n",
       "      <td>NaN</td>\n",
       "      <td>Friday</td>\n",
       "      <td>NaN</td>\n",
       "    </tr>\n",
       "    <tr>\n",
       "      <th>freq</th>\n",
       "      <td>NaN</td>\n",
       "      <td>3</td>\n",
       "      <td>NaN</td>\n",
       "      <td>NaN</td>\n",
       "      <td>NaN</td>\n",
       "      <td>NaN</td>\n",
       "      <td>NaN</td>\n",
       "      <td>NaN</td>\n",
       "      <td>NaN</td>\n",
       "      <td>NaN</td>\n",
       "      <td>NaN</td>\n",
       "      <td>55</td>\n",
       "      <td>NaN</td>\n",
       "    </tr>\n",
       "    <tr>\n",
       "      <th>first</th>\n",
       "      <td>NaN</td>\n",
       "      <td>2010-01-10 00:00:00</td>\n",
       "      <td>NaN</td>\n",
       "      <td>NaN</td>\n",
       "      <td>NaN</td>\n",
       "      <td>NaN</td>\n",
       "      <td>NaN</td>\n",
       "      <td>NaN</td>\n",
       "      <td>NaN</td>\n",
       "      <td>NaN</td>\n",
       "      <td>NaN</td>\n",
       "      <td>NaN</td>\n",
       "      <td>NaN</td>\n",
       "    </tr>\n",
       "    <tr>\n",
       "      <th>last</th>\n",
       "      <td>NaN</td>\n",
       "      <td>2012-12-10 00:00:00</td>\n",
       "      <td>NaN</td>\n",
       "      <td>NaN</td>\n",
       "      <td>NaN</td>\n",
       "      <td>NaN</td>\n",
       "      <td>NaN</td>\n",
       "      <td>NaN</td>\n",
       "      <td>NaN</td>\n",
       "      <td>NaN</td>\n",
       "      <td>NaN</td>\n",
       "      <td>NaN</td>\n",
       "      <td>NaN</td>\n",
       "    </tr>\n",
       "    <tr>\n",
       "      <th>mean</th>\n",
       "      <td>9.900000</td>\n",
       "      <td>NaN</td>\n",
       "      <td>1.233865e+06</td>\n",
       "      <td>0.075000</td>\n",
       "      <td>61.06100</td>\n",
       "      <td>3.318444</td>\n",
       "      <td>179.524905</td>\n",
       "      <td>7.389733</td>\n",
       "      <td>2010.887500</td>\n",
       "      <td>6.525000</td>\n",
       "      <td>15.962500</td>\n",
       "      <td>NaN</td>\n",
       "      <td>3.650000</td>\n",
       "    </tr>\n",
       "    <tr>\n",
       "      <th>std</th>\n",
       "      <td>6.204475</td>\n",
       "      <td>NaN</td>\n",
       "      <td>6.647250e+05</td>\n",
       "      <td>0.265053</td>\n",
       "      <td>17.74604</td>\n",
       "      <td>0.484399</td>\n",
       "      <td>39.554303</td>\n",
       "      <td>0.982729</td>\n",
       "      <td>0.826672</td>\n",
       "      <td>3.329861</td>\n",
       "      <td>8.594145</td>\n",
       "      <td>NaN</td>\n",
       "      <td>1.388014</td>\n",
       "    </tr>\n",
       "    <tr>\n",
       "      <th>min</th>\n",
       "      <td>1.000000</td>\n",
       "      <td>NaN</td>\n",
       "      <td>2.689290e+05</td>\n",
       "      <td>0.000000</td>\n",
       "      <td>18.79000</td>\n",
       "      <td>2.548000</td>\n",
       "      <td>126.128355</td>\n",
       "      <td>5.143000</td>\n",
       "      <td>2010.000000</td>\n",
       "      <td>1.000000</td>\n",
       "      <td>1.000000</td>\n",
       "      <td>NaN</td>\n",
       "      <td>0.000000</td>\n",
       "    </tr>\n",
       "    <tr>\n",
       "      <th>25%</th>\n",
       "      <td>4.000000</td>\n",
       "      <td>NaN</td>\n",
       "      <td>5.617240e+05</td>\n",
       "      <td>0.000000</td>\n",
       "      <td>45.34250</td>\n",
       "      <td>2.814750</td>\n",
       "      <td>132.602339</td>\n",
       "      <td>6.642250</td>\n",
       "      <td>2010.000000</td>\n",
       "      <td>4.000000</td>\n",
       "      <td>8.000000</td>\n",
       "      <td>NaN</td>\n",
       "      <td>4.000000</td>\n",
       "    </tr>\n",
       "    <tr>\n",
       "      <th>50%</th>\n",
       "      <td>9.000000</td>\n",
       "      <td>NaN</td>\n",
       "      <td>1.260826e+06</td>\n",
       "      <td>0.000000</td>\n",
       "      <td>61.45000</td>\n",
       "      <td>3.468000</td>\n",
       "      <td>197.166416</td>\n",
       "      <td>7.419000</td>\n",
       "      <td>2011.000000</td>\n",
       "      <td>6.000000</td>\n",
       "      <td>16.500000</td>\n",
       "      <td>NaN</td>\n",
       "      <td>4.000000</td>\n",
       "    </tr>\n",
       "    <tr>\n",
       "      <th>75%</th>\n",
       "      <td>15.750000</td>\n",
       "      <td>NaN</td>\n",
       "      <td>1.807159e+06</td>\n",
       "      <td>0.000000</td>\n",
       "      <td>75.79250</td>\n",
       "      <td>3.737750</td>\n",
       "      <td>214.855374</td>\n",
       "      <td>8.099000</td>\n",
       "      <td>2012.000000</td>\n",
       "      <td>9.250000</td>\n",
       "      <td>23.250000</td>\n",
       "      <td>NaN</td>\n",
       "      <td>4.000000</td>\n",
       "    </tr>\n",
       "    <tr>\n",
       "      <th>max</th>\n",
       "      <td>20.000000</td>\n",
       "      <td>NaN</td>\n",
       "      <td>2.771397e+06</td>\n",
       "      <td>1.000000</td>\n",
       "      <td>91.65000</td>\n",
       "      <td>4.170000</td>\n",
       "      <td>226.968844</td>\n",
       "      <td>9.342000</td>\n",
       "      <td>2012.000000</td>\n",
       "      <td>12.000000</td>\n",
       "      <td>31.000000</td>\n",
       "      <td>NaN</td>\n",
       "      <td>6.000000</td>\n",
       "    </tr>\n",
       "  </tbody>\n",
       "</table>\n",
       "</div>"
      ],
      "text/plain": [
       "            Store                 Date  Weekly_Sales  Holiday_Flag  \\\n",
       "count   90.000000                   80  9.000000e+01     80.000000   \n",
       "unique        NaN                   62           NaN           NaN   \n",
       "top           NaN  2010-06-18 00:00:00           NaN           NaN   \n",
       "freq          NaN                    3           NaN           NaN   \n",
       "first         NaN  2010-01-10 00:00:00           NaN           NaN   \n",
       "last          NaN  2012-12-10 00:00:00           NaN           NaN   \n",
       "mean     9.900000                  NaN  1.233865e+06      0.075000   \n",
       "std      6.204475                  NaN  6.647250e+05      0.265053   \n",
       "min      1.000000                  NaN  2.689290e+05      0.000000   \n",
       "25%      4.000000                  NaN  5.617240e+05      0.000000   \n",
       "50%      9.000000                  NaN  1.260826e+06      0.000000   \n",
       "75%     15.750000                  NaN  1.807159e+06      0.000000   \n",
       "max     20.000000                  NaN  2.771397e+06      1.000000   \n",
       "\n",
       "        Temperature  Fuel_Price         CPI  Unemployment         Year  \\\n",
       "count      90.00000   90.000000   90.000000     90.000000    80.000000   \n",
       "unique          NaN         NaN         NaN           NaN          NaN   \n",
       "top             NaN         NaN         NaN           NaN          NaN   \n",
       "freq            NaN         NaN         NaN           NaN          NaN   \n",
       "first           NaN         NaN         NaN           NaN          NaN   \n",
       "last            NaN         NaN         NaN           NaN          NaN   \n",
       "mean       61.06100    3.318444  179.524905      7.389733  2010.887500   \n",
       "std        17.74604    0.484399   39.554303      0.982729     0.826672   \n",
       "min        18.79000    2.548000  126.128355      5.143000  2010.000000   \n",
       "25%        45.34250    2.814750  132.602339      6.642250  2010.000000   \n",
       "50%        61.45000    3.468000  197.166416      7.419000  2011.000000   \n",
       "75%        75.79250    3.737750  214.855374      8.099000  2012.000000   \n",
       "max        91.65000    4.170000  226.968844      9.342000  2012.000000   \n",
       "\n",
       "            Month        Day Day_of_week  Weekday_number  \n",
       "count   80.000000  80.000000          80       80.000000  \n",
       "unique        NaN        NaN           6             NaN  \n",
       "top           NaN        NaN      Friday             NaN  \n",
       "freq          NaN        NaN          55             NaN  \n",
       "first         NaN        NaN         NaN             NaN  \n",
       "last          NaN        NaN         NaN             NaN  \n",
       "mean     6.525000  15.962500         NaN        3.650000  \n",
       "std      3.329861   8.594145         NaN        1.388014  \n",
       "min      1.000000   1.000000         NaN        0.000000  \n",
       "25%      4.000000   8.000000         NaN        4.000000  \n",
       "50%      6.000000  16.500000         NaN        4.000000  \n",
       "75%      9.250000  23.250000         NaN        4.000000  \n",
       "max     12.000000  31.000000         NaN        6.000000  "
      ]
     },
     "execution_count": 20,
     "metadata": {},
     "output_type": "execute_result"
    }
   ],
   "source": [
    "df = dataset[[\"Temperature\",\"Fuel_Price\",\"CPI\",\"Unemployment\"]]\n",
    "desc = df.describe()\n",
    "numeric_columns = desc.columns\n",
    "mask = True\n",
    "for col in numeric_columns:\n",
    "    q1 = desc.loc[\"25%\", col]\n",
    "    q3 = desc.loc[\"75%\", col]\n",
    "    ecart = q3 - q1\n",
    "    cond1 = q1 - 1.5*ecart < dataset[col]\n",
    "    cond2 = q3 + 1.5*ecart > dataset[col]\n",
    "    mask = mask & cond1 & cond2\n",
    "dataset= dataset.loc[mask,:]\n",
    "dataset.describe(include=\"all\")"
   ]
  },
  {
   "cell_type": "markdown",
   "id": "28289aa0-2ebd-4388-a7f8-d5528b4d0439",
   "metadata": {},
   "source": [
    "As we can observe, the number of observations is now 90, and 80 if we include the dates columns. The date issue is not very relevant in our problematic, most of the sales as we have seen are registered on friday and the ones on monday are less, this more of an accountant problem. So we decided to keep the maximum information so we will drop the holiday flag and dates columns"
   ]
  },
  {
   "cell_type": "markdown",
   "id": "72df3cdd-4be6-4036-abe9-6254432f426c",
   "metadata": {},
   "source": [
    "**Target variable/target (Y) that we will try to predict, to separate from the others** : *Weekly_Sales*"
   ]
  },
  {
   "cell_type": "code",
   "execution_count": 21,
   "id": "93357d4e-0fcf-4f14-b5f6-ce96e4932870",
   "metadata": {},
   "outputs": [],
   "source": [
    "X = dataset[[\"Store\",\"Temperature\",\"Fuel_Price\",\"CPI\",\"Unemployment\"]]\n",
    "y = dataset[\"Weekly_Sales\"]"
   ]
  },
  {
   "cell_type": "markdown",
   "id": "7ba8b795-5f98-4e7e-bfe2-4b96186e153d",
   "metadata": {},
   "source": [
    " **Explanatory variables (X)**\n",
    "We need to identify which columns contain categorical variables and which columns contain numerical variables, as they will be treated differently.\n",
    "\n",
    " - Categorical variables : Store\n",
    " - Numerical variables : Temperature, Fuel_Price, CPI, Unemployment"
   ]
  },
  {
   "cell_type": "code",
   "execution_count": 22,
   "id": "4674bd69-a44b-4219-a6d6-375c0be8fb28",
   "metadata": {},
   "outputs": [
    {
     "name": "stderr",
     "output_type": "stream",
     "text": [
      "<ipython-input-22-10f30e3fb7a3>:1: SettingWithCopyWarning:\n",
      "\n",
      "\n",
      "A value is trying to be set on a copy of a slice from a DataFrame.\n",
      "Try using .loc[row_indexer,col_indexer] = value instead\n",
      "\n",
      "See the caveats in the documentation: https://pandas.pydata.org/pandas-docs/stable/user_guide/indexing.html#returning-a-view-versus-a-copy\n",
      "\n"
     ]
    }
   ],
   "source": [
    "X[\"Store\"] = X[\"Store\"].astype(str)"
   ]
  },
  {
   "cell_type": "code",
   "execution_count": 23,
   "id": "366ce77a-9f20-49c4-8a8d-9a5d65cd297b",
   "metadata": {},
   "outputs": [
    {
     "name": "stdout",
     "output_type": "stream",
     "text": [
      "Found numeric features  ['Temperature', 'Fuel_Price', 'CPI', 'Unemployment']  at positions  [1, 2, 3, 4]\n",
      "Found categorical features  ['Store']  at positions  [0]\n"
     ]
    }
   ],
   "source": [
    "# Automatically detect positions of numeric/categorical features\n",
    "idx = 0\n",
    "numeric_features = []\n",
    "numeric_indices = []\n",
    "categorical_features = []\n",
    "categorical_indices = []\n",
    "for i,t in X.dtypes.iteritems():\n",
    "    if ('float' in str(t)) or ('int' in str(t)) :\n",
    "        numeric_features.append(i)\n",
    "        numeric_indices.append(idx)\n",
    "    else :\n",
    "        categorical_features.append(i)\n",
    "        categorical_indices.append(idx)\n",
    "\n",
    "    idx = idx + 1\n",
    "\n",
    "print('Found numeric features ', numeric_features,' at positions ', numeric_indices)\n",
    "print('Found categorical features ', categorical_features,' at positions ', categorical_indices)"
   ]
  },
  {
   "cell_type": "markdown",
   "id": "3b91df0a-1136-44ee-8e32-a635eee3e659",
   "metadata": {},
   "source": [
    "### Part 2 : model: linear regression"
   ]
  },
  {
   "cell_type": "code",
   "execution_count": 24,
   "id": "f0b18fa1-c0e6-48be-ac5c-dca70b816a77",
   "metadata": {},
   "outputs": [
    {
     "name": "stdout",
     "output_type": "stream",
     "text": [
      "Dividing into train and test sets...\n",
      "...Done.\n",
      "\n"
     ]
    }
   ],
   "source": [
    "# Divide dataset Train set & Test set \n",
    "print(\"Dividing into train and test sets...\")\n",
    "X_train, X_test, Y_train, Y_test = train_test_split(X, y, test_size=0.2, \n",
    "                                                    random_state=0)\n",
    "print(\"...Done.\")\n",
    "print()"
   ]
  },
  {
   "cell_type": "code",
   "execution_count": 25,
   "id": "b5d4f436-27e5-480e-a7bb-363b4f7ab749",
   "metadata": {},
   "outputs": [
    {
     "name": "stdout",
     "output_type": "stream",
     "text": [
      "Convert pandas DataFrames to numpy arrays...\n",
      "...Done\n"
     ]
    }
   ],
   "source": [
    "# Convert pandas DataFrames to numpy arrays before using scikit-learn\n",
    "print(\"Convert pandas DataFrames to numpy arrays...\")\n",
    "X_train = X_train.values\n",
    "X_test = X_test.values\n",
    "Y_train = Y_train.tolist()\n",
    "Y_test = Y_test.tolist()\n",
    "print(\"...Done\")"
   ]
  },
  {
   "cell_type": "code",
   "execution_count": 26,
   "id": "6b8691e1-5fa5-4277-8e03-0b2f78621849",
   "metadata": {},
   "outputs": [
    {
     "name": "stdout",
     "output_type": "stream",
     "text": [
      "Encoding categorical features and standardizing numerical features...\n",
      "\n",
      "[['16.0' 61.79 2.7110000000000003 189.5231276 6.867999999999999]\n",
      " ['5.0' 69.17 3.594 224.0192873 5.4220000000000015]]\n",
      "...Done\n",
      "  (0, 5)\t1.0\n",
      "  (0, 18)\t0.042603619566292404\n",
      "  (0, 19)\t-1.2684064129831014\n",
      "  (0, 20)\t0.20507787897090277\n",
      "  (0, 21)\t-0.5553454246885398\n",
      "  (1, 13)\t1.0\n",
      "  (1, 18)\t0.45927689938857913\n",
      "  (1, 19)\t0.5805882929947872\n",
      "  (1, 20)\t1.092603852656994\n",
      "  (1, 21)\t-2.1273444147693765\n"
     ]
    }
   ],
   "source": [
    "# Encoding categorical features and standardizing numerical features\n",
    "print(\"Encoding categorical features and standardizing numerical features...\")\n",
    "print()\n",
    "print(X_train[0:2,:])\n",
    "\n",
    "# Normalization\n",
    "numeric_transformer = StandardScaler()\n",
    "\n",
    "# OHE / dummyfication\n",
    "categorical_transformer = OneHotEncoder(drop='first')\n",
    "\n",
    "featureencoder = ColumnTransformer(\n",
    "    transformers=[\n",
    "        ('cat', categorical_transformer, categorical_indices),    \n",
    "        ('num', numeric_transformer, numeric_indices)\n",
    "        ]\n",
    "    )\n",
    "\n",
    "X_train = featureencoder.fit_transform(X_train)\n",
    "print(\"...Done\")\n",
    "print(X_train[0:2,:])"
   ]
  },
  {
   "cell_type": "code",
   "execution_count": 27,
   "id": "97fa09b9-49ee-4b32-bbd5-5bc55bfc513a",
   "metadata": {},
   "outputs": [
    {
     "name": "stdout",
     "output_type": "stream",
     "text": [
      "Train model...\n",
      "...Done.\n"
     ]
    }
   ],
   "source": [
    "# Training the model\n",
    "print(\"Train model...\")\n",
    "regressor = LinearRegression()\n",
    "regressor.fit(X_train, Y_train)\n",
    "print(\"...Done.\")"
   ]
  },
  {
   "cell_type": "code",
   "execution_count": 28,
   "id": "8f4a38e0-851f-48cc-8c45-0f719834e092",
   "metadata": {},
   "outputs": [
    {
     "name": "stdout",
     "output_type": "stream",
     "text": [
      "Predictions on training set...\n",
      "...Done.\n",
      "587910.7992543326\n",
      "\n"
     ]
    }
   ],
   "source": [
    "# Predictions on training set\n",
    "print(\"Predictions on training set...\")\n",
    "Y_train_pred = regressor.predict(X_train)\n",
    "print(\"...Done.\")\n",
    "print(Y_train_pred[0])\n",
    "print()"
   ]
  },
  {
   "cell_type": "code",
   "execution_count": 29,
   "id": "72147d0e-a8d4-4c4f-ae8b-bde300816e3b",
   "metadata": {},
   "outputs": [
    {
     "name": "stdout",
     "output_type": "stream",
     "text": [
      "Encoding categorical features and standardizing numerical features...\n",
      "\n",
      "[['6.0' 78.89 2.759 212.412888 7.0920000000000005]\n",
      " ['7.0' 38.26 2.725 189.7048215 8.963]]\n",
      "...Done\n",
      "  (0, 14)\t1.0\n",
      "  (0, 18)\t1.008066097203298\n",
      "  (0, 19)\t-1.1678948094871355\n",
      "  (0, 20)\t0.7939914584280194\n",
      "  (0, 21)\t-0.3118269089360434\n",
      "  (1, 15)\t1.0\n",
      "  (1, 18)\t-1.2858953335798327\n",
      "  (1, 19)\t-1.2390905286301115\n",
      "  (1, 20)\t0.2097525458588324\n",
      "  (1, 21)\t1.722204979335912\n"
     ]
    }
   ],
   "source": [
    "# Encoding categorical features and standardizing numerical features for X_test\n",
    "print(\"Encoding categorical features and standardizing numerical features...\")\n",
    "print()\n",
    "print(X_test[0:2,:])\n",
    "X_test = featureencoder.transform(X_test)\n",
    "print(\"...Done\")\n",
    "print(X_test[0:2,:])"
   ]
  },
  {
   "cell_type": "code",
   "execution_count": 30,
   "id": "73accc7b-68d3-4b53-a82b-3882095f4bf5",
   "metadata": {},
   "outputs": [
    {
     "name": "stdout",
     "output_type": "stream",
     "text": [
      "Predictions on test set...\n",
      "...Done.\n",
      "1599502.6110590599\n",
      "\n"
     ]
    }
   ],
   "source": [
    "# Predictions on test set\n",
    "print(\"Predictions on test set...\")\n",
    "Y_test_pred = regressor.predict(X_test)\n",
    "print(\"...Done.\")\n",
    "print(Y_test_pred[0])\n",
    "print()"
   ]
  },
  {
   "cell_type": "code",
   "execution_count": 31,
   "id": "0539e9ae-6368-4a3a-8bb7-59632d0d32f7",
   "metadata": {},
   "outputs": [
    {
     "name": "stdout",
     "output_type": "stream",
     "text": [
      "R2 score on training set :  0.9820292636903609\n",
      "R2 score on test set :  0.9345198599151234\n"
     ]
    }
   ],
   "source": [
    "# Print R2 scores of the linear regression\n",
    "print(\"R2 score on training set : \", r2_score(Y_train, Y_train_pred))\n",
    "print(\"R2 score on test set : \", r2_score(Y_test, Y_test_pred))"
   ]
  },
  {
   "cell_type": "markdown",
   "id": "36ec6c6c-4d87-4904-979e-28cfef28d077",
   "metadata": {},
   "source": [
    "   We can see that the linear regression model has a good R2 with some overfitting"
   ]
  },
  {
   "cell_type": "code",
   "execution_count": 32,
   "id": "b9562222-5d27-4d40-818a-af5b7af6af70",
   "metadata": {},
   "outputs": [
    {
     "name": "stdout",
     "output_type": "stream",
     "text": [
      "MSE on training set :  7512289079.966899\n",
      "MSE on test set :  33020511275.70996\n"
     ]
    }
   ],
   "source": [
    "# Print Mean Squared Error of the linear regression\n",
    "print(\"MSE on training set : \", mean_squared_error(Y_train, Y_train_pred))\n",
    "print(\"MSE on test set : \", mean_squared_error(Y_test, Y_test_pred))"
   ]
  },
  {
   "cell_type": "code",
   "execution_count": 33,
   "id": "5e026b1b-90de-4480-b6c2-f2a2468df6e9",
   "metadata": {},
   "outputs": [
    {
     "name": "stdout",
     "output_type": "stream",
     "text": [
      "MAE on training set :  65018.26408242526\n",
      "MAE on test set :  108358.13319577303\n"
     ]
    }
   ],
   "source": [
    "# Print Mean Absolute Error of the linear regression\n",
    "print(\"MAE on training set : \", mean_absolute_error(Y_train, Y_train_pred))\n",
    "print(\"MAE on test set : \", mean_absolute_error(Y_test, Y_test_pred))"
   ]
  },
  {
   "cell_type": "markdown",
   "id": "cd47348c-4273-4cc6-8bcd-74989491b918",
   "metadata": {},
   "source": [
    "Considering that that the weekly sales are include in the range [268 000 - 2 770 000]; the results are not so bad to make prevision of sales for Wallmart, and they are quite stable if not exactly precise."
   ]
  },
  {
   "cell_type": "code",
   "execution_count": 34,
   "id": "a6186911-efc1-452d-b20d-383228de8f1c",
   "metadata": {},
   "outputs": [
    {
     "data": {
      "text/plain": [
       "array([634765.41650738, 528728.36676556, 668954.32469738, 594130.85937939,\n",
       "       597460.34531032, 650584.69299769, 695360.0299987 , 521527.92800343,\n",
       "       528290.97132294, 563827.00562279])"
      ]
     },
     "execution_count": 34,
     "metadata": {},
     "output_type": "execute_result"
    }
   ],
   "source": [
    "(cross_val_score(regressor, X, y, cv=10,scoring=make_scorer(mean_absolute_error)))"
   ]
  },
  {
   "cell_type": "code",
   "execution_count": 35,
   "id": "7fcfa0f1-9751-4efe-bc7d-d87f9dbedcdf",
   "metadata": {
    "tags": []
   },
   "outputs": [
    {
     "name": "stdout",
     "output_type": "stream",
     "text": [
      "  (0, 5)\t1.0\n",
      "  (0, 18)\t0.042603619566292404\n",
      "  (0, 19)\t-1.2684064129831014\n",
      "  (0, 20)\t0.20507787897090277\n",
      "  (0, 21)\t-0.5553454246885398\n",
      "[ 2.20150896e+06  1.29914916e+05  2.49980797e+06  1.12495383e+06\n",
      "  9.90304580e+05 -4.22745579e+05  1.33407752e+06  1.36169964e+06\n",
      "  1.70423614e+06  2.88459920e+05  6.25691384e+05 -1.23581781e+06\n",
      "  2.65528456e+06 -1.20601819e+06  6.06651265e+04 -5.55968750e+05\n",
      " -6.64233872e+05 -1.07148272e+06  6.31985612e+02 -7.42635804e+04\n",
      "  8.88754999e+05  4.77804016e+04]\n"
     ]
    }
   ],
   "source": [
    "#The different coefficients\n",
    "print(X_train[0])\n",
    "print(regressor.coef_)"
   ]
  },
  {
   "cell_type": "code",
   "execution_count": 36,
   "id": "80fabb18-7491-4ce6-975b-de89279ae7ff",
   "metadata": {},
   "outputs": [
    {
     "name": "stdout",
     "output_type": "stream",
     "text": [
      "Feature: 0, Score: 2201508.96319\n",
      "Feature: 1, Score: 129914.91613\n",
      "Feature: 2, Score: 2499807.96740\n",
      "Feature: 3, Score: 1124953.83172\n",
      "Feature: 4, Score: 990304.58016\n",
      "Feature: 5, Score: -422745.57852\n",
      "Feature: 6, Score: 1334077.52397\n",
      "Feature: 7, Score: 1361699.64282\n",
      "Feature: 8, Score: 1704236.13709\n",
      "Feature: 9, Score: 288459.92043\n",
      "Feature: 10, Score: 625691.38421\n",
      "Feature: 11, Score: -1235817.81134\n",
      "Feature: 12, Score: 2655284.56401\n",
      "Feature: 13, Score: -1206018.19418\n",
      "Feature: 14, Score: 60665.12648\n",
      "Feature: 15, Score: -555968.75011\n",
      "Feature: 16, Score: -664233.87232\n",
      "Feature: 17, Score: -1071482.71967\n",
      "Feature: 18, Score: 631.98561\n",
      "Feature: 19, Score: -74263.58039\n",
      "Feature: 20, Score: 888754.99861\n",
      "Feature: 21, Score: 47780.40155\n"
     ]
    },
    {
     "data": {
      "image/png": "[encoded data removed]",
      "text/plain": [
       "<Figure size 432x288 with 1 Axes>"
      ]
     },
     "metadata": {
      "needs_background": "light"
     },
     "output_type": "display_data"
    }
   ],
   "source": [
    "importance = regressor.coef_\n",
    "# summarize feature importance\n",
    "for i,v in enumerate(importance):\n",
    "    print('Feature: %0d, Score: %.5f' % (i,v))\n",
    "# plot feature importance\n",
    "plt.bar([x for x in range(len(importance))], importance)\n",
    "plt.show()"
   ]
  },
  {
   "cell_type": "markdown",
   "id": "77423bd7-4954-45eb-9f9f-436efcd8c495",
   "metadata": {},
   "source": [
    "#### the first 18 coef are the one hot encoded version of the 19 stores\n",
    "#### the 4 last coef are :\n",
    "    Temperature: 631, temperature has almost no impact\n",
    "    Fuel_Price: -74263, the fuel a small negativ value \n",
    "    CPI: 888754, Consumer Price Index has a high positiv value\n",
    "    Unemployment: 47780, strangely has little impact but positive"
   ]
  },
  {
   "cell_type": "markdown",
   "id": "4dad4177-1dd9-4818-8a7b-7791d1e83821",
   "metadata": {},
   "source": [
    "### Part 3 : Fight overfitting\n",
    "In this last part, we'll train a **regularized linear regression model**. with cross validation and parmeters optimization "
   ]
  },
  {
   "cell_type": "markdown",
   "id": "eaaf9f03-c9e5-4c9b-a96b-6d838a45eaae",
   "metadata": {},
   "source": [
    "#### Lasso - Linear Model trained with L1 prior as regularizer "
   ]
  },
  {
   "cell_type": "code",
   "execution_count": 37,
   "id": "50c3c194-d9a8-4fb1-8d3c-51eb514eee91",
   "metadata": {},
   "outputs": [],
   "source": [
    "# creating a lasso model with search on parameters and cross validation\n",
    "parameters = {'alpha':np.logspace(-4, 1, num=5)}\n",
    "model = Lasso()\n",
    "grid_lasso = GridSearchCV(model,param_grid=parameters, cv=10)"
   ]
  },
  {
   "cell_type": "code",
   "execution_count": 38,
   "id": "f37a10fd-06d2-4084-b529-a863c474e8ea",
   "metadata": {},
   "outputs": [
    {
     "name": "stdout",
     "output_type": "stream",
     "text": [
      "Train model...\n"
     ]
    },
    {
     "name": "stderr",
     "output_type": "stream",
     "text": [
      "/Users/jd/opt/anaconda3/lib/python3.8/site-packages/sklearn/linear_model/_coordinate_descent.py:513: ConvergenceWarning:\n",
      "\n",
      "Objective did not converge. You might want to increase the number of iterations. Duality gap: 252606635408.14026, tolerance: 2753579552.6303916\n",
      "\n",
      "/Users/jd/opt/anaconda3/lib/python3.8/site-packages/sklearn/linear_model/_coordinate_descent.py:513: ConvergenceWarning:\n",
      "\n",
      "Objective did not converge. You might want to increase the number of iterations. Duality gap: 220467680064.95493, tolerance: 2736957672.9191413\n",
      "\n",
      "/Users/jd/opt/anaconda3/lib/python3.8/site-packages/sklearn/linear_model/_coordinate_descent.py:513: ConvergenceWarning:\n",
      "\n",
      "Objective did not converge. You might want to increase the number of iterations. Duality gap: 239959695671.04007, tolerance: 2680034325.4036393\n",
      "\n",
      "/Users/jd/opt/anaconda3/lib/python3.8/site-packages/sklearn/linear_model/_coordinate_descent.py:513: ConvergenceWarning:\n",
      "\n",
      "Objective did not converge. You might want to increase the number of iterations. Duality gap: 250748209340.78, tolerance: 2762349803.5289392\n",
      "\n",
      "/Users/jd/opt/anaconda3/lib/python3.8/site-packages/sklearn/linear_model/_coordinate_descent.py:513: ConvergenceWarning:\n",
      "\n",
      "Objective did not converge. You might want to increase the number of iterations. Duality gap: 257896272605.95923, tolerance: 2732870960.8098087\n",
      "\n",
      "/Users/jd/opt/anaconda3/lib/python3.8/site-packages/sklearn/linear_model/_coordinate_descent.py:513: ConvergenceWarning:\n",
      "\n",
      "Objective did not converge. You might want to increase the number of iterations. Duality gap: 218270150683.56952, tolerance: 2706857815.375043\n",
      "\n",
      "/Users/jd/opt/anaconda3/lib/python3.8/site-packages/sklearn/linear_model/_coordinate_descent.py:513: ConvergenceWarning:\n",
      "\n",
      "Objective did not converge. You might want to increase the number of iterations. Duality gap: 244353139927.2755, tolerance: 2539992238.6292167\n",
      "\n",
      "/Users/jd/opt/anaconda3/lib/python3.8/site-packages/sklearn/linear_model/_coordinate_descent.py:513: ConvergenceWarning:\n",
      "\n",
      "Objective did not converge. You might want to increase the number of iterations. Duality gap: 231794727985.26947, tolerance: 2700133344.8244476\n",
      "\n",
      "/Users/jd/opt/anaconda3/lib/python3.8/site-packages/sklearn/linear_model/_coordinate_descent.py:513: ConvergenceWarning:\n",
      "\n",
      "Objective did not converge. You might want to increase the number of iterations. Duality gap: 253795030845.64194, tolerance: 2740692723.8352127\n",
      "\n",
      "/Users/jd/opt/anaconda3/lib/python3.8/site-packages/sklearn/linear_model/_coordinate_descent.py:513: ConvergenceWarning:\n",
      "\n",
      "Objective did not converge. You might want to increase the number of iterations. Duality gap: 177682138031.40005, tolerance: 2709382329.636377\n",
      "\n",
      "/Users/jd/opt/anaconda3/lib/python3.8/site-packages/sklearn/linear_model/_coordinate_descent.py:513: ConvergenceWarning:\n",
      "\n",
      "Objective did not converge. You might want to increase the number of iterations. Duality gap: 252584045743.42087, tolerance: 2753579552.6303916\n",
      "\n",
      "/Users/jd/opt/anaconda3/lib/python3.8/site-packages/sklearn/linear_model/_coordinate_descent.py:513: ConvergenceWarning:\n",
      "\n",
      "Objective did not converge. You might want to increase the number of iterations. Duality gap: 220457032209.66418, tolerance: 2736957672.9191413\n",
      "\n",
      "/Users/jd/opt/anaconda3/lib/python3.8/site-packages/sklearn/linear_model/_coordinate_descent.py:513: ConvergenceWarning:\n",
      "\n",
      "Objective did not converge. You might want to increase the number of iterations. Duality gap: 239943630604.07806, tolerance: 2680034325.4036393\n",
      "\n",
      "/Users/jd/opt/anaconda3/lib/python3.8/site-packages/sklearn/linear_model/_coordinate_descent.py:513: ConvergenceWarning:\n",
      "\n",
      "Objective did not converge. You might want to increase the number of iterations. Duality gap: 250729802107.5457, tolerance: 2762349803.5289392\n",
      "\n",
      "/Users/jd/opt/anaconda3/lib/python3.8/site-packages/sklearn/linear_model/_coordinate_descent.py:513: ConvergenceWarning:\n",
      "\n",
      "Objective did not converge. You might want to increase the number of iterations. Duality gap: 257878940643.62085, tolerance: 2732870960.8098087\n",
      "\n",
      "/Users/jd/opt/anaconda3/lib/python3.8/site-packages/sklearn/linear_model/_coordinate_descent.py:513: ConvergenceWarning:\n",
      "\n",
      "Objective did not converge. You might want to increase the number of iterations. Duality gap: 218260754630.04947, tolerance: 2706857815.375043\n",
      "\n",
      "/Users/jd/opt/anaconda3/lib/python3.8/site-packages/sklearn/linear_model/_coordinate_descent.py:513: ConvergenceWarning:\n",
      "\n",
      "Objective did not converge. You might want to increase the number of iterations. Duality gap: 244343660962.23825, tolerance: 2539992238.6292167\n",
      "\n",
      "/Users/jd/opt/anaconda3/lib/python3.8/site-packages/sklearn/linear_model/_coordinate_descent.py:513: ConvergenceWarning:\n",
      "\n",
      "Objective did not converge. You might want to increase the number of iterations. Duality gap: 231779858503.72955, tolerance: 2700133344.8244476\n",
      "\n",
      "/Users/jd/opt/anaconda3/lib/python3.8/site-packages/sklearn/linear_model/_coordinate_descent.py:513: ConvergenceWarning:\n",
      "\n",
      "Objective did not converge. You might want to increase the number of iterations. Duality gap: 253780319539.52878, tolerance: 2740692723.8352127\n",
      "\n",
      "/Users/jd/opt/anaconda3/lib/python3.8/site-packages/sklearn/linear_model/_coordinate_descent.py:513: ConvergenceWarning:\n",
      "\n",
      "Objective did not converge. You might want to increase the number of iterations. Duality gap: 177670886328.696, tolerance: 2709382329.636377\n",
      "\n",
      "/Users/jd/opt/anaconda3/lib/python3.8/site-packages/sklearn/linear_model/_coordinate_descent.py:513: ConvergenceWarning:\n",
      "\n",
      "Objective did not converge. You might want to increase the number of iterations. Duality gap: 252181770507.81833, tolerance: 2753579552.6303916\n",
      "\n",
      "/Users/jd/opt/anaconda3/lib/python3.8/site-packages/sklearn/linear_model/_coordinate_descent.py:513: ConvergenceWarning:\n",
      "\n",
      "Objective did not converge. You might want to increase the number of iterations. Duality gap: 220267506122.67868, tolerance: 2736957672.9191413\n",
      "\n",
      "/Users/jd/opt/anaconda3/lib/python3.8/site-packages/sklearn/linear_model/_coordinate_descent.py:513: ConvergenceWarning:\n",
      "\n",
      "Objective did not converge. You might want to increase the number of iterations. Duality gap: 239658064364.0067, tolerance: 2680034325.4036393\n",
      "\n",
      "/Users/jd/opt/anaconda3/lib/python3.8/site-packages/sklearn/linear_model/_coordinate_descent.py:513: ConvergenceWarning:\n",
      "\n",
      "Objective did not converge. You might want to increase the number of iterations. Duality gap: 250402101785.46487, tolerance: 2762349803.5289392\n",
      "\n",
      "/Users/jd/opt/anaconda3/lib/python3.8/site-packages/sklearn/linear_model/_coordinate_descent.py:513: ConvergenceWarning:\n",
      "\n",
      "Objective did not converge. You might want to increase the number of iterations. Duality gap: 257570417254.0475, tolerance: 2732870960.8098087\n",
      "\n",
      "/Users/jd/opt/anaconda3/lib/python3.8/site-packages/sklearn/linear_model/_coordinate_descent.py:513: ConvergenceWarning:\n",
      "\n",
      "Objective did not converge. You might want to increase the number of iterations. Duality gap: 218093486901.44666, tolerance: 2706857815.375043\n",
      "\n",
      "/Users/jd/opt/anaconda3/lib/python3.8/site-packages/sklearn/linear_model/_coordinate_descent.py:513: ConvergenceWarning:\n",
      "\n",
      "Objective did not converge. You might want to increase the number of iterations. Duality gap: 244174913012.90903, tolerance: 2539992238.6292167\n",
      "\n",
      "/Users/jd/opt/anaconda3/lib/python3.8/site-packages/sklearn/linear_model/_coordinate_descent.py:513: ConvergenceWarning:\n",
      "\n",
      "Objective did not converge. You might want to increase the number of iterations. Duality gap: 231515111976.5598, tolerance: 2700133344.8244476\n",
      "\n",
      "/Users/jd/opt/anaconda3/lib/python3.8/site-packages/sklearn/linear_model/_coordinate_descent.py:513: ConvergenceWarning:\n",
      "\n",
      "Objective did not converge. You might want to increase the number of iterations. Duality gap: 253518400741.03537, tolerance: 2740692723.8352127\n",
      "\n",
      "/Users/jd/opt/anaconda3/lib/python3.8/site-packages/sklearn/linear_model/_coordinate_descent.py:513: ConvergenceWarning:\n",
      "\n",
      "Objective did not converge. You might want to increase the number of iterations. Duality gap: 177470494288.7786, tolerance: 2709382329.636377\n",
      "\n",
      "/Users/jd/opt/anaconda3/lib/python3.8/site-packages/sklearn/linear_model/_coordinate_descent.py:513: ConvergenceWarning:\n",
      "\n",
      "Objective did not converge. You might want to increase the number of iterations. Duality gap: 245050793470.00525, tolerance: 2753579552.6303916\n",
      "\n",
      "/Users/jd/opt/anaconda3/lib/python3.8/site-packages/sklearn/linear_model/_coordinate_descent.py:513: ConvergenceWarning:\n",
      "\n",
      "Objective did not converge. You might want to increase the number of iterations. Duality gap: 216840472370.18707, tolerance: 2736957672.9191413\n",
      "\n",
      "/Users/jd/opt/anaconda3/lib/python3.8/site-packages/sklearn/linear_model/_coordinate_descent.py:513: ConvergenceWarning:\n",
      "\n",
      "Objective did not converge. You might want to increase the number of iterations. Duality gap: 234616239971.3349, tolerance: 2680034325.4036393\n",
      "\n",
      "/Users/jd/opt/anaconda3/lib/python3.8/site-packages/sklearn/linear_model/_coordinate_descent.py:513: ConvergenceWarning:\n",
      "\n",
      "Objective did not converge. You might want to increase the number of iterations. Duality gap: 244456398978.27203, tolerance: 2762349803.5289392\n",
      "\n",
      "/Users/jd/opt/anaconda3/lib/python3.8/site-packages/sklearn/linear_model/_coordinate_descent.py:513: ConvergenceWarning:\n",
      "\n",
      "Objective did not converge. You might want to increase the number of iterations. Duality gap: 251983805055.60995, tolerance: 2732870960.8098087\n",
      "\n",
      "/Users/jd/opt/anaconda3/lib/python3.8/site-packages/sklearn/linear_model/_coordinate_descent.py:513: ConvergenceWarning:\n",
      "\n",
      "Objective did not converge. You might want to increase the number of iterations. Duality gap: 215061362730.55383, tolerance: 2706857815.375043\n",
      "\n",
      "/Users/jd/opt/anaconda3/lib/python3.8/site-packages/sklearn/linear_model/_coordinate_descent.py:513: ConvergenceWarning:\n",
      "\n",
      "Objective did not converge. You might want to increase the number of iterations. Duality gap: 241115009009.05963, tolerance: 2539992238.6292167\n",
      "\n",
      "/Users/jd/opt/anaconda3/lib/python3.8/site-packages/sklearn/linear_model/_coordinate_descent.py:513: ConvergenceWarning:\n",
      "\n",
      "Objective did not converge. You might want to increase the number of iterations. Duality gap: 226702718431.98126, tolerance: 2700133344.8244476\n",
      "\n",
      "/Users/jd/opt/anaconda3/lib/python3.8/site-packages/sklearn/linear_model/_coordinate_descent.py:513: ConvergenceWarning:\n",
      "\n",
      "Objective did not converge. You might want to increase the number of iterations. Duality gap: 248760764817.3306, tolerance: 2740692723.8352127\n",
      "\n",
      "/Users/jd/opt/anaconda3/lib/python3.8/site-packages/sklearn/linear_model/_coordinate_descent.py:513: ConvergenceWarning:\n",
      "\n",
      "Objective did not converge. You might want to increase the number of iterations. Duality gap: 173808337391.85916, tolerance: 2709382329.636377\n",
      "\n",
      "/Users/jd/opt/anaconda3/lib/python3.8/site-packages/sklearn/linear_model/_coordinate_descent.py:513: ConvergenceWarning:\n",
      "\n",
      "Objective did not converge. You might want to increase the number of iterations. Duality gap: 137384653493.27588, tolerance: 2753579552.6303916\n",
      "\n",
      "/Users/jd/opt/anaconda3/lib/python3.8/site-packages/sklearn/linear_model/_coordinate_descent.py:513: ConvergenceWarning:\n",
      "\n",
      "Objective did not converge. You might want to increase the number of iterations. Duality gap: 159853055623.03217, tolerance: 2736957672.9191413\n",
      "\n",
      "/Users/jd/opt/anaconda3/lib/python3.8/site-packages/sklearn/linear_model/_coordinate_descent.py:513: ConvergenceWarning:\n",
      "\n",
      "Objective did not converge. You might want to increase the number of iterations. Duality gap: 155562822854.42236, tolerance: 2680034325.4036393\n",
      "\n",
      "/Users/jd/opt/anaconda3/lib/python3.8/site-packages/sklearn/linear_model/_coordinate_descent.py:513: ConvergenceWarning:\n",
      "\n",
      "Objective did not converge. You might want to increase the number of iterations. Duality gap: 150739273083.8387, tolerance: 2762349803.5289392\n",
      "\n",
      "/Users/jd/opt/anaconda3/lib/python3.8/site-packages/sklearn/linear_model/_coordinate_descent.py:513: ConvergenceWarning:\n",
      "\n",
      "Objective did not converge. You might want to increase the number of iterations. Duality gap: 165219915380.66962, tolerance: 2732870960.8098087\n",
      "\n",
      "/Users/jd/opt/anaconda3/lib/python3.8/site-packages/sklearn/linear_model/_coordinate_descent.py:513: ConvergenceWarning:\n",
      "\n",
      "Objective did not converge. You might want to increase the number of iterations. Duality gap: 137521375660.11035, tolerance: 2706857815.375043\n",
      "\n"
     ]
    },
    {
     "name": "stdout",
     "output_type": "stream",
     "text": [
      "...Done.\n"
     ]
    },
    {
     "name": "stderr",
     "output_type": "stream",
     "text": [
      "/Users/jd/opt/anaconda3/lib/python3.8/site-packages/sklearn/linear_model/_coordinate_descent.py:513: ConvergenceWarning:\n",
      "\n",
      "Objective did not converge. You might want to increase the number of iterations. Duality gap: 164850787420.5777, tolerance: 2539992238.6292167\n",
      "\n",
      "/Users/jd/opt/anaconda3/lib/python3.8/site-packages/sklearn/linear_model/_coordinate_descent.py:513: ConvergenceWarning:\n",
      "\n",
      "Objective did not converge. You might want to increase the number of iterations. Duality gap: 145220236632.4193, tolerance: 2700133344.8244476\n",
      "\n",
      "/Users/jd/opt/anaconda3/lib/python3.8/site-packages/sklearn/linear_model/_coordinate_descent.py:513: ConvergenceWarning:\n",
      "\n",
      "Objective did not converge. You might want to increase the number of iterations. Duality gap: 150182176962.74768, tolerance: 2740692723.8352127\n",
      "\n",
      "/Users/jd/opt/anaconda3/lib/python3.8/site-packages/sklearn/linear_model/_coordinate_descent.py:513: ConvergenceWarning:\n",
      "\n",
      "Objective did not converge. You might want to increase the number of iterations. Duality gap: 86160255763.98022, tolerance: 2709382329.636377\n",
      "\n",
      "/Users/jd/opt/anaconda3/lib/python3.8/site-packages/sklearn/linear_model/_coordinate_descent.py:513: ConvergenceWarning:\n",
      "\n",
      "Objective did not converge. You might want to increase the number of iterations. Duality gap: 273066410879.3117, tolerance: 3009808860.5723906\n",
      "\n"
     ]
    }
   ],
   "source": [
    "# Training the model\n",
    "print(\"Train model...\")\n",
    "grid_lasso.fit(X_train, Y_train)\n",
    "print(\"...Done.\")"
   ]
  },
  {
   "cell_type": "code",
   "execution_count": 39,
   "id": "603d37b6-87ab-422b-970c-073fd7912330",
   "metadata": {},
   "outputs": [
    {
     "name": "stdout",
     "output_type": "stream",
     "text": [
      "Predictions on training set...\n",
      "...Done.\n",
      "579416.7884714471\n",
      "\n"
     ]
    }
   ],
   "source": [
    "# Predictions on training set\n",
    "print(\"Predictions on training set...\")\n",
    "Y_train_pred = grid_lasso.predict(X_train)\n",
    "print(\"...Done.\")\n",
    "print(Y_train_pred[0])\n",
    "print()"
   ]
  },
  {
   "cell_type": "code",
   "execution_count": 40,
   "id": "0276c06d-4795-43ca-b066-bb57f6ac3b75",
   "metadata": {},
   "outputs": [
    {
     "name": "stdout",
     "output_type": "stream",
     "text": [
      "Predictions on test set...\n",
      "...Done.\n",
      "1597513.061826396\n",
      "\n"
     ]
    }
   ],
   "source": [
    "# Predictions on test set\n",
    "print(\"Predictions on test set...\")\n",
    "Y_test_pred = grid_lasso.predict(X_test)\n",
    "print(\"...Done.\")\n",
    "print(Y_test_pred[0])\n",
    "print()"
   ]
  },
  {
   "cell_type": "code",
   "execution_count": 41,
   "id": "3b75db5f-b3bc-4cd9-bddb-16fa8d032860",
   "metadata": {},
   "outputs": [
    {
     "name": "stdout",
     "output_type": "stream",
     "text": [
      "R2 score on training set :  0.9818548353098375\n",
      "R2 score on test set :  0.9367466647298217\n"
     ]
    }
   ],
   "source": [
    "# Print R2 scores of the lasso regression\n",
    "print(\"R2 score on training set : \", r2_score(Y_train, Y_train_pred))\n",
    "print(\"R2 score on test set : \", r2_score(Y_test, Y_test_pred))"
   ]
  },
  {
   "cell_type": "code",
   "execution_count": 42,
   "id": "391eaf23-9ff6-49d7-8291-ddec6f84a3c5",
   "metadata": {},
   "outputs": [
    {
     "name": "stdout",
     "output_type": "stream",
     "text": [
      "MSE on training set :  7585205202.916175\n",
      "MSE on test set :  31897571810.442497\n"
     ]
    }
   ],
   "source": [
    "# Print Mean Squared Error of the lasso regression\n",
    "print(\"MSE on training set : \", mean_squared_error(Y_train, Y_train_pred))\n",
    "print(\"MSE on test set : \", mean_squared_error(Y_test, Y_test_pred))"
   ]
  },
  {
   "cell_type": "code",
   "execution_count": 43,
   "id": "83183e0d-0966-47e9-a0cc-dd55968717f4",
   "metadata": {},
   "outputs": [
    {
     "name": "stdout",
     "output_type": "stream",
     "text": [
      "MAE on training set :  64058.68033607296\n",
      "MAE on test set :  107469.77942464917\n"
     ]
    }
   ],
   "source": [
    "# Print Mean Absolute Error of the linear regression\n",
    "print(\"MAE on training set : \", mean_absolute_error(Y_train, Y_train_pred))\n",
    "print(\"MAE on test set : \", mean_absolute_error(Y_test, Y_test_pred))"
   ]
  },
  {
   "cell_type": "markdown",
   "id": "9f430182-6192-4b12-8468-c57704a0189f",
   "metadata": {},
   "source": [
    "#### Ridge"
   ]
  },
  {
   "cell_type": "code",
   "execution_count": 44,
   "id": "5b2b98ac-cd15-4f08-bcd8-7d8896dc456e",
   "metadata": {},
   "outputs": [
    {
     "data": {
      "text/plain": [
       "GridSearchCV(cv=10, estimator=Ridge(),\n",
       "             param_grid={'alpha': [0.0, 1e-08, 1e-06, 0.0001, 0.1, 1.0, 10.0,\n",
       "                                   100.0, 1000.0]})"
      ]
     },
     "execution_count": 44,
     "metadata": {},
     "output_type": "execute_result"
    }
   ],
   "source": [
    "# Instantiation of the ridge model, Linear least squares with l2 regularization.\n",
    "ridge = Ridge()\n",
    "# Larger values of alpha specify stronger regularization\n",
    "grid_params = {'alpha': [0.0, 0.00000001, 0.000001, 0.0001, 0.1, 1.0, 10.0, 100.0, 1000.0] }\n",
    "gridridge = GridSearchCV(ridge, param_grid = grid_params, cv = 10)\n",
    "gridridge.fit(X_train, Y_train)"
   ]
  },
  {
   "cell_type": "code",
   "execution_count": 46,
   "id": "929d3cd4-a5dc-4f80-bc9e-5e7511ced059",
   "metadata": {},
   "outputs": [
    {
     "data": {
      "text/plain": [
       "{'alpha': 1e-06}"
      ]
     },
     "execution_count": 46,
     "metadata": {},
     "output_type": "execute_result"
    }
   ],
   "source": [
    "gridridge.best_params_"
   ]
  },
  {
   "cell_type": "code",
   "execution_count": 47,
   "id": "50774ba2-1f92-4455-989d-170372977779",
   "metadata": {},
   "outputs": [],
   "source": [
    "best_ridge = gridridge.best_estimator_"
   ]
  },
  {
   "cell_type": "code",
   "execution_count": 48,
   "id": "0f4ef1dd-46cf-46a2-b537-0542008f339f",
   "metadata": {},
   "outputs": [
    {
     "name": "stdout",
     "output_type": "stream",
     "text": [
      "Predictions on training set...\n",
      "...Done.\n",
      "587913.393757299\n",
      "\n"
     ]
    }
   ],
   "source": [
    "# Predictions on training set\n",
    "print(\"Predictions on training set...\")\n",
    "Y_train_pred = best_ridge.predict(X_train)\n",
    "print(\"...Done.\")\n",
    "print(Y_train_pred[0])\n",
    "print()"
   ]
  },
  {
   "cell_type": "code",
   "execution_count": 49,
   "id": "fa627696-fa3d-4b11-bfa3-a9af997120b3",
   "metadata": {},
   "outputs": [
    {
     "name": "stdout",
     "output_type": "stream",
     "text": [
      "Predictions on test set...\n",
      "...Done.\n",
      "1598936.7849598501\n",
      "\n"
     ]
    }
   ],
   "source": [
    "# Predictions on test set\n",
    "print(\"Predictions on test set...\")\n",
    "Y_test_pred = best_ridge.predict(X_test)\n",
    "print(\"...Done.\")\n",
    "print(Y_test_pred[0])\n",
    "print()"
   ]
  },
  {
   "cell_type": "code",
   "execution_count": 50,
   "id": "5d1c5213-ee5a-4034-93d6-4b9d729ff5ca",
   "metadata": {},
   "outputs": [
    {
     "name": "stdout",
     "output_type": "stream",
     "text": [
      "R2 score on training set :  0.9820291812117189\n",
      "R2 score on test set :  0.934575523668323\n"
     ]
    }
   ],
   "source": [
    "# Print R2 scores of the linear regression\n",
    "print(\"R2 score on training set : \", r2_score(Y_train, Y_train_pred))\n",
    "print(\"R2 score on test set : \", r2_score(Y_test, Y_test_pred))"
   ]
  },
  {
   "cell_type": "code",
   "execution_count": 51,
   "id": "b81291f1-89c2-4fa3-8f0d-6abebcc03424",
   "metadata": {},
   "outputs": [
    {
     "name": "stdout",
     "output_type": "stream",
     "text": [
      "MAE on training set :  65014.902636810235\n",
      "MAE on test set :  108345.42201984936\n"
     ]
    }
   ],
   "source": [
    "# Print Mean Absolute Error of the linear regression\n",
    "print(\"MAE on training set : \", mean_absolute_error(Y_train, Y_train_pred))\n",
    "print(\"MAE on test set : \", mean_absolute_error(Y_test, Y_test_pred))"
   ]
  },
  {
   "cell_type": "markdown",
   "id": "54f0d7a1-9ed6-46e4-9941-8aa2375c5437",
   "metadata": {},
   "source": [
    "#### LASSO and Ridge regressions perform better with higher dimensional data.\n",
    "This can explain why we haven't seen improvements compare to the simple linear regression model."
   ]
  }
 ],
 "metadata": {
  "kernelspec": {
   "display_name": "Python 3",
   "language": "python",
   "name": "python3"
  },
  "language_info": {
   "codemirror_mode": {
    "name": "ipython",
    "version": 3
   },
   "file_extension": ".py",
   "mimetype": "text/x-python",
   "name": "python",
   "nbconvert_exporter": "python",
   "pygments_lexer": "ipython3",
   "version": "3.8.8"
  }
 },
 "nbformat": 4,
 "nbformat_minor": 5
}
